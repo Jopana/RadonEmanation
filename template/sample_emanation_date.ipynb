{
 "cells": [
  {
   "cell_type": "code",
   "execution_count": 1,
   "metadata": {},
   "outputs": [],
   "source": [
    "%matplotlib inline\n",
    "\n",
    "from math import*\n",
    "import matplotlib.pyplot as plt\n",
    "import numpy as np\n",
    "from array import*\n",
    "from matplotlib.colors import LogNorm\n",
    "import matplotlib.gridspec as gridspec\n",
    "from IPython.display import HTML\n",
    "from IPython.display import display\n",
    "import matplotlib.mlab as mlab\n",
    "from iminuit import Minuit, describe"
   ]
  },
  {
   "cell_type": "code",
   "execution_count": 2,
   "metadata": {},
   "outputs": [],
   "source": [
    "import sys\n",
    "sys.path.append(\"/Users/palacio/Work/workspace/Subatech/XenonNt/Radon/lib\")\n",
    "import rdEmanation as rdEmanation\n",
    "import rdEmanationActivity as rdEmanationActivity "
   ]
  },
  {
   "cell_type": "markdown",
   "metadata": {},
   "source": [
    "# Emanation Measurement"
   ]
  },
  {
   "cell_type": "markdown",
   "metadata": {},
   "source": [
    "## Measurement details:"
   ]
  },
  {
   "cell_type": "markdown",
   "metadata": {},
   "source": [
    "**Detector:** MonA <br>\n",
    "**Date:** 28.07.2019 <br>\n",
    "**Sample:** Emanation of 25mm-pipe extracted on the 20190728 <br>\n",
    "**Filling pressure:** ($1300\\pm10)\\,$mbar <br>\n",
    "**Drift field:** $-1.\\,$kV\n",
    "\n",
    "**Description:** Emanation measurement extracted on the 250mm-pipe extraction of the 20190728.\" "
   ]
  },
  {
   "cell_type": "markdown",
   "metadata": {},
   "source": [
    "## Measurement parameters:"
   ]
  },
  {
   "cell_type": "markdown",
   "metadata": {},
   "source": [
    "#### Emanation time of sample [d]:"
   ]
  },
  {
   "cell_type": "code",
   "execution_count": 3,
   "metadata": {},
   "outputs": [
    {
     "name": "stdout",
     "output_type": "stream",
     "text": [
      "\u001b[94mBeginning emanation: 2019/07/22 @ 19:30\n",
      "\u001b[94mEnd emanation: 2019/07/27 @ ~17:00\n",
      "\u001b[94mEmanation time of sample: (4.8958 +/- 0.0104) days\n"
     ]
    }
   ],
   "source": [
    "#Enter emanation time in days\n",
    "print ('\\033[94m' + 'Beginning emanation: 2019/07/22 @ 19:30')\n",
    "print ('\\033[94m' + 'End emanation: 2019/07/27 @ ~17:00')\n",
    "\n",
    "d = 4 #\n",
    "h = 21 #\n",
    "m = 30 #\n",
    "s = 0 #\n",
    "\n",
    "### The source was in equilibrium\n",
    "t_e = (m + h*60 + d*24*60)/(60*24.)\n",
    "\n",
    "#Enter error on emanation time in days. Usually neglible!\n",
    "et_e = 15./60./24.\n",
    "\n",
    "print ('\\033[94m' + 'Emanation time of sample: ({:6.4f}'.format(t_e) + ' +/- {:2.4f}'.format(et_e) + ') days')"
   ]
  },
  {
   "cell_type": "markdown",
   "metadata": {},
   "source": [
    "#### Measurement times [sec]:"
   ]
  },
  {
   "cell_type": "code",
   "execution_count": 4,
   "metadata": {},
   "outputs": [
    {
     "name": "stdout",
     "output_type": "stream",
     "text": [
      "\u001b[94mExtraction finished on 2019/07/27 @ 18:45\n",
      "\u001b[94mMeasurement started on 2019/07/28 @ 11:24\n",
      "\u001b[94mtime between emanation stop and start of run:  59940 seconds\n"
     ]
    }
   ],
   "source": [
    "#Time between emanation stop of the sample and the start of the measurement in seconds.\n",
    "#NOTE: By default we cut the first 200 min of a run (-> grow-in of Po-214)!\n",
    "\n",
    "print ('\\033[94m' + 'Extraction finished on 2019/07/27 @ 18:45')\n",
    "print ('\\033[94m' + 'Measurement started on 2019/07/28 @ 11:24')\n",
    "\n",
    "d1=0\n",
    "h1=16\n",
    "m1=39\n",
    "s1=0\n",
    "t1 = d1*3600.*24 + h1*3600.+m1*60.+s1\n",
    "\n",
    "print ('\\033[94m' + 'time between emanation stop and start of run: {:6.0f}'.format(t1) + ' seconds')"
   ]
  },
  {
   "cell_type": "markdown",
   "metadata": {},
   "source": [
    "#### File name:"
   ]
  },
  {
   "cell_type": "code",
   "execution_count": 5,
   "metadata": {},
   "outputs": [
    {
     "name": "stdout",
     "output_type": "stream",
     "text": [
      "\u001b[94mfile name: /Users/palacio/Work/Subatech/XENONnt/Radon/250mmPipe/data/20190728/Ap28072019\n"
     ]
    }
   ],
   "source": [
    "mainPath='/Users/palacio/Work/Subatech/XENONnt/Radon/250mmPipe/data/20190728/'\n",
    "infile = mainPath+'Ap28072019'\n",
    "\n",
    "print ('\\033[94m' + 'file name: ' + infile)"
   ]
  },
  {
   "cell_type": "markdown",
   "metadata": {},
   "source": [
    "#### Po selection channel windows [min-max]:"
   ]
  },
  {
   "cell_type": "code",
   "execution_count": 6,
   "metadata": {},
   "outputs": [
    {
     "name": "stdout",
     "output_type": "stream",
     "text": [
      "\u001b[94mPo-214 selection window: [275,360] channel\n",
      "\u001b[94mPo-218 selection window: [245,275] channel\n",
      "\u001b[94mPo-210 selection window: [180,245] channel\n"
     ]
    }
   ],
   "source": [
    "pol214min=rdEmanation.def_Pol_ranges('Pol_214_min')\n",
    "pol214max=rdEmanation.def_Pol_ranges('Pol_214_max')\n",
    "pol218min=rdEmanation.def_Pol_ranges('Pol_218_min')\n",
    "pol218max=rdEmanation.def_Pol_ranges('Pol_218_max')\n",
    "pol210min=rdEmanation.def_Pol_ranges('Pol_210_min')\n",
    "pol210max=rdEmanation.def_Pol_ranges('Pol_210_max')\n",
    "\n",
    "print ('\\033[94m' + 'Po-214 selection window: [{:1.0f}'.format(pol214min) + ',' + '{:1.0f}'.format(pol214max) + '] channel')\n",
    "print ('\\033[94m' + 'Po-218 selection window: [{:1.0f}'.format(pol218min) + ',' + '{:1.0f}'.format(pol218max) + '] channel')\n",
    "print ('\\033[94m' + 'Po-210 selection window: [{:1.0f}'.format(pol210min) + ',' + '{:1.0f}'.format(pol210max) + '] channel')"
   ]
  },
  {
   "cell_type": "code",
   "execution_count": 7,
   "metadata": {},
   "outputs": [],
   "source": [
    "#Definition of the decay constants of radon and radium\n",
    "lRn = rdEmanationActivity.lRn()\n",
    "lRa = rdEmanationActivity.lRa()\n",
    "lPo210 = rdEmanationActivity.lPo210()"
   ]
  },
  {
   "cell_type": "markdown",
   "metadata": {},
   "source": [
    "## Quality plots"
   ]
  },
  {
   "cell_type": "code",
   "execution_count": 8,
   "metadata": {},
   "outputs": [],
   "source": [
    "#LOAD DATA\n",
    "indata = open(infile)\n",
    "channel_s = array('i',[0])\n",
    "timestamp_s = array('f',[0])\n",
    "runtime_s = array('f',[0])\n",
    "channel_1 = []\n",
    "runtime_1 = []\n",
    "timestamp_1 = []\n",
    "data = [[],[]]\n",
    "\n",
    "###runtime=0-> startUnixTime\n",
    "startUnixTime = 1368550200\n",
    "\n",
    "lineCount = 0\n",
    "timeOff = 0\n",
    "\n",
    "for line in indata:\n",
    "    a = line.split(',')\n",
    "    #a  = [ahelp.replace(',','.') for ahelp in aa]\n",
    "\n",
    "    lineCount = lineCount +1\n",
    "\n",
    "    for ebin in range(848):\n",
    "        entries = float(a[ebin])\n",
    "        \n",
    "        if entries > 0:            \n",
    "            numcounts = int(entries)\n",
    "\n",
    "            for evt in range(numcounts):\n",
    "                channel_s[0] = ebin\n",
    "                timestamp_s[0] = (float(a[848]) - startUnixTime)\n",
    "                runtime_s[0] = (float(a[849])/60)\n",
    "                channel_1.append(channel_s[0])\n",
    "                runtime_1.append(runtime_s[0])\n",
    "                timestamp_1.append(timestamp_s[0])"
   ]
  },
  {
   "cell_type": "code",
   "execution_count": 9,
   "metadata": {},
   "outputs": [],
   "source": [
    "tBlind=rdEmanation.blindingTime()\n",
    "\n",
    "channel_Unblind = []\n",
    "runtime_Unblind = []\n",
    "channel_Blind = []\n",
    "runtime_Blind = []\n",
    "for i in range(0,len(channel_1)):\n",
    "    if runtime_1[i] > tBlind:\n",
    "        channel_Unblind.append(channel_1[i])\n",
    "        runtime_Unblind.append(runtime_1[i])\n",
    "    else:\n",
    "        channel_Blind.append(channel_1[i])\n",
    "        runtime_Blind.append(runtime_1[i])\n"
   ]
  },
  {
   "cell_type": "code",
   "execution_count": 10,
   "metadata": {},
   "outputs": [
    {
     "name": "stderr",
     "output_type": "stream",
     "text": [
      "/Users/palacio/.conda/envs/envPython3/lib/python3.7/site-packages/ipykernel_launcher.py:8: MatplotlibDeprecationWarning: \n",
      "The 'normed' kwarg was deprecated in Matplotlib 2.1 and will be removed in 3.1. Use 'density' instead.\n",
      "  \n"
     ]
    },
    {
     "data": {
      "image/png": "[encoded data removed]",
      "text/plain": [
       "<Figure size 720x360 with 1 Axes>"
      ]
     },
     "metadata": {
      "needs_background": "light"
     },
     "output_type": "display_data"
    }
   ],
   "source": [
    "fig = plt.figure(figsize=(10,5))\n",
    "t = np.arange(0., 500., 1)\n",
    "\n",
    "bins = (max(channel_Unblind)-min(channel_Unblind))\n",
    "plt.axvspan(pol214min, pol214max, alpha=0.3, color='darkred',label ='Po-214')\n",
    "plt.axvspan(pol218min, pol218max, alpha=0.5, color='darkorange', label = 'Po-218')\n",
    "plt.axvspan(pol210min, pol210max, alpha=0.5, color='darkgray', label = 'Po-210')\n",
    "plt.hist(channel_Unblind, bins, normed=0, facecolor='steelblue',edgecolor = 'black',histtype='stepfilled',alpha = 1,linewidth = 1.2);\n",
    "\n",
    "plt.yscale('log', nonposy='clip')\n",
    "plt.xlabel('energy channel',fontsize=20)\n",
    "plt.ylabel('number of counts',fontsize=20)\n",
    "\n",
    "plt.xlim(1, 400)\n",
    "#plt.ylim(0.1,find_max(channel_Unblind))\n",
    "plt.ylim(0.1,1e5)\n",
    "plt.xticks(fontsize = 18)\n",
    "plt.yticks(fontsize = 18)\n",
    "plt.legend(loc='upper right',fontsize = 'large')\n",
    "plt.tick_params(direction='in', length=10, width=1, colors='black')\n",
    "#plt.grid()\n",
    "plt.title('Energy spectrum for runtime > {:3.0f}'.format(tBlind)+ ' min.',loc='left',fontsize = 15, weight = 'bold')\n",
    "#plt.savefig(\"hexe_ptfe_blank.svg\")\n",
    "\n",
    "plt.show()"
   ]
  },
  {
   "cell_type": "code",
   "execution_count": 11,
   "metadata": {},
   "outputs": [
    {
     "name": "stderr",
     "output_type": "stream",
     "text": [
      "/Users/palacio/.conda/envs/envPython3/lib/python3.7/site-packages/ipykernel_launcher.py:4: MatplotlibDeprecationWarning: \n",
      "The 'normed' kwarg was deprecated in Matplotlib 2.1 and will be removed in 3.1. Use 'density' instead.\n",
      "  after removing the cwd from sys.path.\n",
      "/Users/palacio/.conda/envs/envPython3/lib/python3.7/site-packages/ipykernel_launcher.py:6: MatplotlibDeprecationWarning: \n",
      "The 'normed' kwarg was deprecated in Matplotlib 2.1 and will be removed in 3.1. Use 'density' instead.\n",
      "  \n"
     ]
    },
    {
     "data": {
      "image/png": "[encoded data removed]",
      "text/plain": [
       "<Figure size 720x360 with 1 Axes>"
      ]
     },
     "metadata": {
      "needs_background": "light"
     },
     "output_type": "display_data"
    }
   ],
   "source": [
    "fig = plt.figure(figsize=(10,5))\n",
    "\n",
    "binsUnblind = (max(runtime_Unblind)-min(runtime_Unblind)-1)/50#len(run_po212_1)/80\n",
    "binsUnblindPo212 = plt.hist(runtime_Unblind, int(binsUnblind), normed=0, facecolor='steelblue',edgecolor = 'black',histtype='stepfilled',alpha = 1,linewidth = 1.2, label= 'runtime > {:3.0f}'.format(tBlind) + ' min.');\n",
    "binsBlind = (max(runtime_Blind)-min(runtime_Blind)-1)/50#len(run_po212_1)/80\n",
    "binsBlindPo212 = plt.hist(runtime_Blind, int(binsBlind), normed=0, facecolor='orange', edgecolor = 'black',histtype='stepfilled',alpha = 1,linewidth = 1.2, label= 'runtime < {:3.0f}'.format(tBlind) + ' min.');\n",
    "\n",
    "#plt.yscale('log', nonposy='clip')\n",
    "plt.xlabel('runtime [min]',fontsize=20)\n",
    "plt.ylabel('number of counts',fontsize=20)\n",
    "#plt.xlim(0.1, 800)\n",
    "#plt.ylim(0.1,800)\n",
    "plt.xticks(fontsize = 18)\n",
    "plt.yticks(fontsize = 18)\n",
    "plt.tick_params(direction='in', length=10, width=1, colors='black')\n",
    "plt.title('Time evolution of all events',loc='center',fontsize = 15, weight = 'bold')\n",
    "#plt.savefig(\"hexe_ptfe_blank.svg\")\n",
    "plt.legend()\n",
    "\n",
    "plt.show()"
   ]
  },
  {
   "cell_type": "code",
   "execution_count": 12,
   "metadata": {},
   "outputs": [],
   "source": [
    "channel_po214_Unblind = []\n",
    "runtime_po214_Unblind = []\n",
    "channel_po214_Blind = []\n",
    "runtime_po214_Blind = []\n",
    "for i in range(0,len(channel_1)):\n",
    "    if ((channel_1[i] > pol214min) & (channel_1[i]<pol214max)) and runtime_1[i] > tBlind:\n",
    "        channel_po214_Unblind.append(channel_1[i])\n",
    "        runtime_po214_Unblind.append(runtime_1[i])\n",
    "    elif ((channel_1[i] > pol214min) & (channel_1[i]<pol214max)) and runtime_1[i] < tBlind:\n",
    "        channel_po214_Blind.append(channel_1[i])\n",
    "        runtime_po214_Blind.append(runtime_1[i])       \n",
    "\n",
    "        \n",
    "channel_po218_Unblind = []\n",
    "runtime_po218_Unblind = []\n",
    "channel_po218_Blind = []\n",
    "runtime_po218_Blind = []\n",
    "for i in range(0,len(channel_1)):\n",
    "    if ((channel_1[i] > pol218min) & (channel_1[i]<pol218max)) and runtime_1[i] > tBlind:\n",
    "        channel_po218_Unblind.append(channel_1[i])\n",
    "        runtime_po218_Unblind.append(runtime_1[i])\n",
    "    elif ((channel_1[i] > pol218min) & (channel_1[i]<pol218max)) and runtime_1[i] < tBlind:\n",
    "        channel_po218_Blind.append(channel_1[i])\n",
    "        runtime_po218_Blind.append(runtime_1[i])        \n",
    "       \n",
    "\n",
    "    \n",
    "channel_po210_Unblind = []\n",
    "runtime_po210_Unblind = []\n",
    "channel_po210_Blind = []\n",
    "runtime_po210_Blind = []\n",
    "for i in range(0,len(channel_1)):\n",
    "    if ((channel_1[i] > pol210min) & (channel_1[i]<pol210max)) and runtime_1[i] > tBlind:\n",
    "        channel_po210_Unblind.append(channel_1[i])\n",
    "        runtime_po210_Unblind.append(runtime_1[i])\n",
    "    elif ((channel_1[i] > pol210min) & (channel_1[i]<pol210max)) and runtime_1[i] < tBlind:\n",
    "        channel_po210_Blind.append(channel_1[i])\n",
    "        runtime_po210_Blind.append(runtime_1[i])        "
   ]
  },
  {
   "cell_type": "markdown",
   "metadata": {},
   "source": [
    "# Correction factors:"
   ]
  },
  {
   "cell_type": "markdown",
   "metadata": {},
   "source": [
    "### Emanation equilibrium\n",
    "**c1:** The emanation sample did not reach its emanation equilibrium yet."
   ]
  },
  {
   "cell_type": "code",
   "execution_count": 16,
   "metadata": {},
   "outputs": [
    {
     "name": "stdout",
     "output_type": "stream",
     "text": [
      "\u001b[94mc1 after emanation time t_e: ( 0.605+/- 0.004)\n"
     ]
    }
   ],
   "source": [
    "# calculate the source strength after emanation time te\n",
    "c1 = rdEmanationActivity.source_strength(t_e,lRn)\n",
    "ec1 = rdEmanationActivity.err_source_strength(t_e, et_e,lRn)\n",
    "\n",
    "print ('\\033[94m' + 'c1 after emanation time t_e: ({:6.3f}'.format(c1) + '+/-' + '{:6.3f}'.format(ec1) + ')')"
   ]
  },
  {
   "cell_type": "markdown",
   "metadata": {},
   "source": [
    "### Decay before measurement\n",
    "**c2:** Some of the sample has been decayed before the start of DAQ."
   ]
  },
  {
   "cell_type": "code",
   "execution_count": 17,
   "metadata": {},
   "outputs": [
    {
     "name": "stdout",
     "output_type": "stream",
     "text": [
      "\u001b[94mc1 after time t1:  0.998\n"
     ]
    }
   ],
   "source": [
    "c2 = rdEmanationActivity.decay_before_measurement(t1,lRn)\n",
    "print ('\\033[94m' + 'c1 after time t1: {:6.3f}'.format(c2))"
   ]
  },
  {
   "cell_type": "markdown",
   "metadata": {},
   "source": [
    "We do not assume here an error. The uncertainty on the emanation stop is already considered in the error on c1 (**cross-check this argumentation**)."
   ]
  },
  {
   "cell_type": "markdown",
   "metadata": {},
   "source": [
    "### c3: extracted gas fraction\n",
    "***c3:*** Only a fraction of the sample has been extracted (not pumped to 0 mbar)."
   ]
  },
  {
   "cell_type": "markdown",
   "metadata": {},
   "source": [
    "The correction factor needs to be calculated depending on the measurement procedure:\n",
    "- We assume 100% of the source was trapped"
   ]
  },
  {
   "cell_type": "code",
   "execution_count": 18,
   "metadata": {},
   "outputs": [
    {
     "name": "stdout",
     "output_type": "stream",
     "text": [
      "\u001b[94mc1 after time t1: ( 1.000+/- 0.010)\n"
     ]
    }
   ],
   "source": [
    "p0 = 1000\n",
    "p1 = 0.\n",
    "ep = 10.\n",
    "\n",
    "c3 = rdEmanationActivity.gas_extracted(p0,p1)\n",
    "ec3 = rdEmanationActivity.error_gas_extracted(p0,p1,ep)\n",
    "print ('\\033[94m' + 'c1 after time t1: ({:6.3f}'.format(c3) + '+/-' + '{:6.3f}'.format(ec3)+ ')' )"
   ]
  },
  {
   "cell_type": "markdown",
   "metadata": {},
   "source": [
    "#  Measured Po-214 activity"
   ]
  },
  {
   "cell_type": "markdown",
   "metadata": {},
   "source": [
    "## Po-214 efficiency\n",
    "**Measured** on the 20190817\n",
    "\n",
    "**NOTE:** The detection efficiency can change with detector parameters (high voltage) but also as a consequence of a different gas composition.\n"
   ]
  },
  {
   "cell_type": "code",
   "execution_count": 17,
   "metadata": {},
   "outputs": [
    {
     "name": "stdout",
     "output_type": "stream",
     "text": [
      "\u001b[94mdetection efficiency (measured at 2019.08.17): (0.21+/-0.01)\n"
     ]
    }
   ],
   "source": [
    "ef = 0.21\n",
    "eef = 0.01\n",
    "\n",
    "print ('\\033[94m' + 'detection efficiency (measured at 2019.08.17): ({:3.2f}'.format(ef) + '+/-' + '{:3.2f}'.format(eef) + ')')"
   ]
  },
  {
   "cell_type": "markdown",
   "metadata": {},
   "source": [
    "### Method 1\n",
    "Activity measurement based on the number of Po-214 events"
   ]
  },
  {
   "cell_type": "markdown",
   "metadata": {},
   "source": [
    "The activity filled into the detector (i.e. the activity when started the measurement) is generally given by\n",
    "$$A = \\frac{c\\cdot \\lambda_{Rn}}{\\epsilon} \\cdot \\frac{1}{1-e^{-\\lambda_{Rn}\\cdot \\Delta t}}$$\n",
    "Where $c$ is the number of counts, $\\epsilon$ the detector efficiency and $\\Delta t$ the run time of the measurement."
   ]
  },
  {
   "cell_type": "code",
   "execution_count": 18,
   "metadata": {},
   "outputs": [
    {
     "name": "stderr",
     "output_type": "stream",
     "text": [
      "/Users/palacio/.conda/envs/envPython3/lib/python3.7/site-packages/ipykernel_launcher.py:6: MatplotlibDeprecationWarning: \n",
      "The 'normed' kwarg was deprecated in Matplotlib 2.1 and will be removed in 3.1. Use 'density' instead.\n",
      "  \n"
     ]
    },
    {
     "data": {
      "image/png": "[encoded data removed]",
      "text/plain": [
       "<Figure size 720x360 with 1 Axes>"
      ]
     },
     "metadata": {
      "needs_background": "light"
     },
     "output_type": "display_data"
    }
   ],
   "source": [
    "fig = plt.figure(figsize=(10,5))\n",
    "t = np.arange(0., 500., 1)\n",
    "\n",
    "binsUnblind = (max(channel_po214_Unblind)-min(channel_po214_Unblind))\n",
    "plt.axvspan(650, 750, alpha=0.5, color='darkgray')\n",
    "plt.hist(channel_po214_Unblind, binsUnblind, normed=0, facecolor='steelblue',edgecolor = 'black',histtype='stepfilled',alpha = 1,linewidth = 1.2);\n",
    "\n",
    "#plt.yscale('log', nonposy='clip')\n",
    "plt.xlabel('energy channel',fontsize=20)\n",
    "plt.ylabel('number of counts',fontsize=20)\n",
    "plt.xlim(pol214min, pol214max)\n",
    "plt.ylim(0,rdEmanation.find_max(channel_po214_Unblind))\n",
    "plt.xticks(fontsize = 18)\n",
    "plt.yticks(fontsize = 18)\n",
    "#plt.legend(loc='upper right',fontsize = 'large')\n",
    "plt.tick_params(direction='in', length=10, width=1, colors='black')\n",
    "#plt.grid()\n",
    "plt.title('Energy spectrum for runtime > {:3.0f}'.format(tBlind) + ' min.',loc='left',fontsize = 15, weight = 'bold')\n",
    "#plt.savefig(\"hexe_ptfe_blank.svg\")\n",
    "\n",
    "plt.show()"
   ]
  },
  {
   "cell_type": "code",
   "execution_count": 26,
   "metadata": {},
   "outputs": [],
   "source": [
    "# definition of t2 in case the first 200 min have bin cut\n",
    "t2 = t1 - tBlind*60 + (int(runtime_1[len(runtime_1)-1]))*60."
   ]
  },
  {
   "cell_type": "code",
   "execution_count": 27,
   "metadata": {},
   "outputs": [
    {
     "ename": "NameError",
     "evalue": "name 'c1' is not defined",
     "output_type": "error",
     "traceback": [
      "\u001b[0;31m---------------------------------------------------------------------------\u001b[0m",
      "\u001b[0;31mNameError\u001b[0m                                 Traceback (most recent call last)",
      "\u001b[0;32m<ipython-input-27-43b417bc8fc0>\u001b[0m in \u001b[0;36m<module>\u001b[0;34m\u001b[0m\n\u001b[1;32m      1\u001b[0m \u001b[0;31m#calculation of the activity\u001b[0m\u001b[0;34m\u001b[0m\u001b[0;34m\u001b[0m\u001b[0;34m\u001b[0m\u001b[0m\n\u001b[0;32m----> 2\u001b[0;31m \u001b[0mA\u001b[0m \u001b[0;34m=\u001b[0m \u001b[0mrdEmanationActivity\u001b[0m\u001b[0;34m.\u001b[0m\u001b[0mact\u001b[0m\u001b[0;34m(\u001b[0m\u001b[0mlen\u001b[0m\u001b[0;34m(\u001b[0m\u001b[0mchannel_po214_Unblind\u001b[0m\u001b[0;34m)\u001b[0m\u001b[0;34m,\u001b[0m\u001b[0mt1\u001b[0m\u001b[0;34m,\u001b[0m\u001b[0mt2\u001b[0m\u001b[0;34m,\u001b[0m\u001b[0mef\u001b[0m\u001b[0;34m,\u001b[0m\u001b[0mlRn\u001b[0m\u001b[0;34m)\u001b[0m\u001b[0;34m/\u001b[0m\u001b[0;34m(\u001b[0m\u001b[0mc1\u001b[0m\u001b[0;34m*\u001b[0m\u001b[0mc2\u001b[0m\u001b[0;34m*\u001b[0m\u001b[0mc3\u001b[0m\u001b[0;34m)\u001b[0m\u001b[0;34m\u001b[0m\u001b[0;34m\u001b[0m\u001b[0m\n\u001b[0m\u001b[1;32m      3\u001b[0m \u001b[0meA\u001b[0m \u001b[0;34m=\u001b[0m \u001b[0mrdEmanationActivity\u001b[0m\u001b[0;34m.\u001b[0m\u001b[0merr_act\u001b[0m\u001b[0;34m(\u001b[0m\u001b[0mlen\u001b[0m\u001b[0;34m(\u001b[0m\u001b[0mchannel_po214_Unblind\u001b[0m\u001b[0;34m)\u001b[0m\u001b[0;34m,\u001b[0m\u001b[0mt1\u001b[0m\u001b[0;34m,\u001b[0m\u001b[0mt2\u001b[0m\u001b[0;34m,\u001b[0m\u001b[0mef\u001b[0m\u001b[0;34m,\u001b[0m\u001b[0meef\u001b[0m\u001b[0;34m,\u001b[0m\u001b[0mlRn\u001b[0m\u001b[0;34m)\u001b[0m\u001b[0;34m\u001b[0m\u001b[0;34m\u001b[0m\u001b[0m\n\u001b[1;32m      4\u001b[0m \u001b[0;34m\u001b[0m\u001b[0m\n\u001b[1;32m      5\u001b[0m \u001b[0;31m# accounting for the errors of the correction factors\u001b[0m\u001b[0;34m\u001b[0m\u001b[0;34m\u001b[0m\u001b[0;34m\u001b[0m\u001b[0m\n",
      "\u001b[0;31mNameError\u001b[0m: name 'c1' is not defined"
     ]
    }
   ],
   "source": [
    "#calculation of the activity\n",
    "A = rdEmanationActivity.act(len(channel_po214_Unblind),t1,t2,ef,lRn)/(c1*c2*c3)\n",
    "eA = rdEmanationActivity.err_act(len(channel_po214_Unblind),t1,t2,ef,eef,lRn)\n",
    "\n",
    "# accounting for the errors of the correction factors\n",
    "eeA = rdEmanationActivity.err_act_factors(A,eA,c1,ec1,c2,c3,ec3)\n",
    "\n",
    "\n",
    "print ('\\033[94m' + 'MEASURED ACTIVITY: ({:6.4f}'.format(A) + '+/-' + '{:6.4f}'.format(eeA)+ ') Bq' )\n"
   ]
  },
  {
   "cell_type": "markdown",
   "metadata": {},
   "source": [
    "### Method 2\n",
    "We fit the Po-214 decay events with and exponential function"
   ]
  },
  {
   "cell_type": "code",
   "execution_count": 19,
   "metadata": {},
   "outputs": [
    {
     "name": "stderr",
     "output_type": "stream",
     "text": [
      "/Users/palacio/.conda/envs/envPython3/lib/python3.7/site-packages/ipykernel_launcher.py:4: MatplotlibDeprecationWarning: \n",
      "The 'normed' kwarg was deprecated in Matplotlib 2.1 and will be removed in 3.1. Use 'density' instead.\n",
      "  after removing the cwd from sys.path.\n",
      "/Users/palacio/.conda/envs/envPython3/lib/python3.7/site-packages/ipykernel_launcher.py:6: MatplotlibDeprecationWarning: \n",
      "The 'normed' kwarg was deprecated in Matplotlib 2.1 and will be removed in 3.1. Use 'density' instead.\n",
      "  \n"
     ]
    },
    {
     "data": {
      "image/png": "[encoded data removed]",
      "text/plain": [
       "<Figure size 720x360 with 1 Axes>"
      ]
     },
     "metadata": {
      "needs_background": "light"
     },
     "output_type": "display_data"
    }
   ],
   "source": [
    "fig = plt.figure(figsize=(10,5))\n",
    "\n",
    "binsUnblind = (max(runtime_po214_Unblind)-min(runtime_po214_Unblind)-1)/50.#len(run_po212_1)/80\n",
    "histPol214=plt.hist(runtime_po214_Unblind, int(binsUnblind), normed=0, facecolor='steelblue',edgecolor = 'black',histtype='stepfilled',alpha = 1,linewidth = 1.2, label ='runtime > {:3.0f}'.format(tBlind) + ' min.');\n",
    "binsBlind = (max(runtime_po214_Blind)-min(runtime_po214_Blind)-1)/50.#len(run_po212_1)/80\n",
    "plt.hist(runtime_po214_Blind, int(binsBlind), normed=0, facecolor='orange',edgecolor = 'orange',histtype='stepfilled',alpha = 1,linewidth = 1.2, label ='runtime < {:3.0f}'.format(tBlind) + ' min.');\n",
    "\n",
    "#plt.yscale('log', nonposy='clip')\n",
    "plt.xlabel('runtime [min]',fontsize=20)\n",
    "plt.ylabel('number of counts',fontsize=20)\n",
    "#plt.xlim(0.1, 800)\n",
    "#plt.ylim(0.1,800)\n",
    "plt.xticks(fontsize = 18)\n",
    "plt.yticks(fontsize = 18)\n",
    "plt.tick_params(direction='in', length=10, width=1, colors='black')\n",
    "plt.title('Time evolution of Po-214 events',loc='center',fontsize = 15, weight = 'bold')\n",
    "#plt.savefig(\"hexe_ptfe_blank.svg\")\n",
    "plt.legend(loc='upper right',fontsize = '18')\n",
    "\n",
    "\n",
    "plt.show()"
   ]
  },
  {
   "cell_type": "code",
   "execution_count": 28,
   "metadata": {},
   "outputs": [],
   "source": [
    "# define hist_x and hist_y from plot above\n",
    "histPol214_x_long=histPol214[1]\n",
    "binWidth=(histPol214_x_long[2]-histPol214_x_long[1])\n",
    "histPol214_y=histPol214[0]\n",
    "histPol214_x=np.empty(np.size(histPol214_y))\n",
    "histPol214_y_norm=np.empty(np.size(histPol214_y))\n",
    "\n",
    "\n",
    "for  i in range(0,len(histPol214_x)):\n",
    "    histPol214_x[i]=(histPol214_x_long[i]+histPol214_x_long[i+1])/2\n",
    "    \n",
    "    histPol214_y_norm[i]=histPol214_y[i]/binWidth"
   ]
  },
  {
   "cell_type": "code",
   "execution_count": 21,
   "metadata": {},
   "outputs": [
    {
     "data": {
      "text/plain": [
       "['N', 'lambda_']"
      ]
     },
     "execution_count": 21,
     "metadata": {},
     "output_type": "execute_result"
    }
   ],
   "source": [
    "# Define x^2-function which needs to be minimized.\n",
    "\"\"\"\n",
    "Author: Joaquim Palacio\n",
    "Date: 2019/10/31\n",
    "Description: exponential decay of Rn-214\n",
    "Variables:\n",
    "t = time [min]\n",
    "Ao = A(t=t_0) = Rn-222 decayed atoms at t=t_0\n",
    "_lambda = Rn-222 decay rate: (-log(0.5)/(3.84*24*60)) [1/min]\n",
    "\n",
    "Return = number of decayed Rn-222 atoms/min vs time \n",
    "\"\"\"\n",
    "def pol214_expo(t,Ao,lambda_):\n",
    "    return Ao * np.exp(-t*lambda_)\n",
    "    \n",
    "\n",
    "# Define x^2-function which needs to be minimized.\n",
    "\"\"\"\n",
    "Author: Joaquim Palacio\n",
    "Date: 2019/10/31\n",
    "Description: exponential decay of Rn-222 to fit in the likelihood\n",
    "Ao = A(t=t_0) = number of Rn-222 atoms at t=t_0\n",
    "_lambda = Rn-222 decay rate: (-log(0.5)/(3.84*24*60)) [1/min]\n",
    "\n",
    "Return = Likelihood defined by \n",
    "  Chi2 = [y_data-f(x_data)]**2/sigma_data**2\n",
    "\"\"\"\n",
    "def pol214_expo_fit(Ao,lambda_):\n",
    "    s_terms=0\n",
    "\n",
    "    #xdata = hist_x[i]\n",
    "    #ydata = hist_y[i]\n",
    "    #delta_ydata = sqrt(hist_y[i])\n",
    "    #f(x) = A * np.exp(-x*B)\n",
    "    \n",
    "    for i in range(0,len(histPol214_x)-1):\n",
    "        # Ignore empty bins (not super correct...)\n",
    "        if histPol214_y[i] == 0.:\n",
    "            continue\n",
    "        \n",
    "        term = (histPol214_y[i]-(Ao * np.exp(-histPol214_x[i]*lambda_)))**2/histPol214_y[i]\n",
    "        s_terms = s_terms + term\n",
    "\n",
    "    return s_terms  \n",
    "\n",
    "#import minuit, describe\n",
    "describe(pol214_expo_fit)"
   ]
  },
  {
   "cell_type": "code",
   "execution_count": 22,
   "metadata": {},
   "outputs": [
    {
     "name": "stderr",
     "output_type": "stream",
     "text": [
      "/Users/palacio/.conda/envs/envPython3/lib/python3.7/site-packages/ipykernel_launcher.py:3: InitialParamWarning: Parameter N is floating but does not have initial step size. Assume 1.\n",
      "  This is separate from the ipykernel package so we can avoid doing imports until\n",
      "/Users/palacio/.conda/envs/envPython3/lib/python3.7/site-packages/ipykernel_launcher.py:3: InitialParamWarning: Parameter lambda_ is floating but does not have initial step size. Assume 1.\n",
      "  This is separate from the ipykernel package so we can avoid doing imports until\n",
      "/Users/palacio/.conda/envs/envPython3/lib/python3.7/site-packages/ipykernel_launcher.py:3: InitialParamWarning: errordef is not given. Default to 1.\n",
      "  This is separate from the ipykernel package so we can avoid doing imports until\n"
     ]
    }
   ],
   "source": [
    "lRn_min = lRn*60.\n",
    "\n",
    "#mm = Minuit(pol214_expo_fit, Ao = 10, lambda_ = lRn_min, limit_Ao = (1,50) , limit_lambda_ = (0.,10.));\n",
    "mm = Minuit(pol214_expo_fit, Ao= 30, limit_Ao = (1,50), lambda_ = lRn_min, limit_lambda_ = (lRn_min*(1-0.001),lRn_min*(1+0.001)));\n",
    "\n"
   ]
  },
  {
   "cell_type": "code",
   "execution_count": 23,
   "metadata": {},
   "outputs": [
    {
     "data": {
      "text/html": [
       "<table>\n",
       "<tr>\n",
       "<td colspan=\"2\" title=\"Minimum value of function\">\n",
       "FCN = 82.41\n",
       "</td>\n",
       "<td align=\"center\" colspan=\"3\" title=\"No. of calls in last algorithm and total number of calls\">\n",
       "Ncalls = 48 (48 total)\n",
       "</td>\n",
       "</tr>\n",
       "<tr>\n",
       "<td colspan=\"2\" title=\"Estimated distance to minimum and target threshold\">\n",
       "EDM = 9.16E-06 (Goal: 1E-05)\n",
       "</td>\n",
       "<td align=\"center\" colspan=\"3\" title=\"Increase in FCN which corresponds to 1 standard deviation\">\n",
       "up = 1.0\n",
       "</td>\n",
       "</tr>\n",
       "<tr>\n",
       "<td align=\"center\" title=\"Validity of the migrad call\">\n",
       "Valid Min.\n",
       "</td>\n",
       "<td align=\"center\" title=\"Validity of parameters\">\n",
       "Valid Param.\n",
       "</td>\n",
       "<td align=\"center\" title=\"Is EDM above goal EDM?\">\n",
       "Above EDM\n",
       "</td>\n",
       "<td align=\"center\" colspan=\"2\" title=\"Did last migrad call reach max call limit?\">\n",
       "Reached call limit\n",
       "</td>\n",
       "</tr>\n",
       "<tr>\n",
       "<td align=\"center\" style=\"background-color:#92CCA6;\">\n",
       "True\n",
       "</td>\n",
       "<td align=\"center\" style=\"background-color:#92CCA6;\">\n",
       "True\n",
       "</td>\n",
       "<td align=\"center\" style=\"background-color:#92CCA6;\">\n",
       "False\n",
       "</td>\n",
       "<td align=\"center\" colspan=\"2\" style=\"background-color:#92CCA6;\">\n",
       "False\n",
       "</td>\n",
       "</tr>\n",
       "<tr>\n",
       "<td align=\"center\" title=\"Did Hesse fail?\">\n",
       "Hesse failed\n",
       "</td>\n",
       "<td align=\"center\" title=\"Has covariance matrix\">\n",
       "Has cov.\n",
       "</td>\n",
       "<td align=\"center\" title=\"Is covariance matrix accurate?\">\n",
       "Accurate\n",
       "</td>\n",
       "<td align=\"center\" title=\"Is covariance matrix positive definite?\">\n",
       "Pos. def.\n",
       "</td>\n",
       "<td align=\"center\" title=\"Was positive definiteness enforced by Minuit?\">\n",
       "Forced\n",
       "</td>\n",
       "</tr>\n",
       "<tr>\n",
       "<td align=\"center\" style=\"background-color:#92CCA6;\">\n",
       "False\n",
       "</td>\n",
       "<td align=\"center\" style=\"background-color:#92CCA6;\">\n",
       "True\n",
       "</td>\n",
       "<td align=\"center\" style=\"background-color:#92CCA6;\">\n",
       "True\n",
       "</td>\n",
       "<td align=\"center\" style=\"background-color:#92CCA6;\">\n",
       "True\n",
       "</td>\n",
       "<td align=\"center\" style=\"background-color:#92CCA6;\">\n",
       "False\n",
       "</td>\n",
       "</tr>\n",
       "</table>\n",
       "<table>\n",
       "<tr style=\"background-color:#F4F4F4;\">\n",
       "<td/>\n",
       "<th title=\"Variable name\">\n",
       "Name\n",
       "</th>\n",
       "<th title=\"Value of parameter\">\n",
       "Value\n",
       "</th>\n",
       "<th title=\"Hesse error\">\n",
       "Hesse Error\n",
       "</th>\n",
       "<th title=\"Minos lower error\">\n",
       "Minos Error-\n",
       "</th>\n",
       "<th title=\"Minos upper error\">\n",
       "Minos Error+\n",
       "</th>\n",
       "<th title=\"Lower limit of the parameter\">\n",
       "Limit-\n",
       "</th>\n",
       "<th title=\"Upper limit of the parameter\">\n",
       "Limit+\n",
       "</th>\n",
       "<th title=\"Is the parameter fixed in the fit\">\n",
       "Fixed\n",
       "</th>\n",
       "</tr>\n",
       "<tr style=\"background-color:#FFFFFF;\">\n",
       "<td>\n",
       "0\n",
       "</td>\n",
       "<td>\n",
       "N\n",
       "</td>\n",
       "<td>\n",
       "8.1\n",
       "</td>\n",
       "<td>\n",
       "0.9\n",
       "</td>\n",
       "<td>\n",
       "\n",
       "</td>\n",
       "<td>\n",
       "\n",
       "</td>\n",
       "<td>\n",
       "1\n",
       "</td>\n",
       "<td>\n",
       "50\n",
       "</td>\n",
       "<td>\n",
       "\n",
       "</td>\n",
       "</tr>\n",
       "<tr style=\"background-color:#F4F4F4;\">\n",
       "<td>\n",
       "1\n",
       "</td>\n",
       "<td>\n",
       "lambda_\n",
       "</td>\n",
       "<td>\n",
       "1.9E-4\n",
       "</td>\n",
       "<td>\n",
       "0.4E-4\n",
       "</td>\n",
       "<td>\n",
       "\n",
       "</td>\n",
       "<td>\n",
       "\n",
       "</td>\n",
       "<td>\n",
       "0\n",
       "</td>\n",
       "<td>\n",
       "10\n",
       "</td>\n",
       "<td>\n",
       "\n",
       "</td>\n",
       "</tr>\n",
       "</table>\n"
      ],
      "text/plain": [
       "------------------------------------------------------------------\n",
       "| FCN = 82.41                   |      Ncalls=48 (48 total)      |\n",
       "| EDM = 9.16E-06 (Goal: 1E-05)  |            up = 1.0            |\n",
       "------------------------------------------------------------------\n",
       "|  Valid Min.   | Valid Param.  | Above EDM | Reached call limit |\n",
       "------------------------------------------------------------------\n",
       "|     True      |     True      |   False   |       False        |\n",
       "------------------------------------------------------------------\n",
       "| Hesse failed  |   Has cov.    | Accurate  | Pos. def. | Forced |\n",
       "------------------------------------------------------------------\n",
       "|     False     |     True      |   True    |   True    | False  |\n",
       "------------------------------------------------------------------\n",
       "---------------------------------------------------------------------------------------------\n",
       "|   | Name    |   Value   | Hesse Err | Minos Err- | Minos Err+ | Limit-  | Limit+  | Fixed |\n",
       "---------------------------------------------------------------------------------------------\n",
       "| 0 | N       |    8.1    |    0.9    |            |            |    1    |   50    |       |\n",
       "| 1 | lambda_ |  1.9E-4   |  0.4E-4   |            |            |    0    |   10    |       |\n",
       "---------------------------------------------------------------------------------------------"
      ]
     },
     "execution_count": 23,
     "metadata": {},
     "output_type": "execute_result"
    }
   ],
   "source": [
    "mm.migrad()"
   ]
  },
  {
   "cell_type": "code",
   "execution_count": 24,
   "metadata": {},
   "outputs": [
    {
     "name": "stdout",
     "output_type": "stream",
     "text": [
      "---------------------------------------------------------------------------------------------\n",
      "|   | Name    |   Value   | Hesse Err | Minos Err- | Minos Err+ | Limit-  | Limit+  | Fixed |\n",
      "---------------------------------------------------------------------------------------------\n",
      "| 0 | N       |    8.1    |    0.9    |            |            |    1    |   50    |       |\n",
      "| 1 | lambda_ |  1.9E-4   |  0.4E-4   |            |            |    0    |   10    |       |\n",
      "---------------------------------------------------------------------------------------------\n",
      "\n",
      "N = 8.1 +- 0.9\n",
      "lambda = 0.000193 +- 0.000044\n",
      "Reduced chi2: 0.98\n"
     ]
    }
   ],
   "source": [
    "print(mm.get_param_states())\n",
    "\n",
    "A0_fit=mm.values[0]             ## [events in bin zero]\n",
    "delta_A0_fit=mm.errors[0]       ## [events in bin zero]\n",
    "lambda_fit=mm.values[1]         ## [1/bin]\n",
    "delta_lambda_fit=mm.errors[1]   ## [1/bin]\n",
    "\n",
    "print('')\n",
    "print('Ao = {:3.1f}'.format(A0_fit) + ' +- {:3.1f}'.format(delta_A0_fit)+ ' decayed particles/bin0')\n",
    "print('lambda = {:1.2e}'.format(lambda_fit) + ' +- {:1.2e}'.format(delta_lambda_fit)+ ' 1/bin')\n",
    "\n",
    "## We take into account the number of empty bins for computing the chi2\n",
    "numEmptyBins=np.size(histPol214_y[histPol214_y==0])\n",
    "chi2=mm.fval / (len(histPol214_y)-numEmptyBins - 2)\n",
    "print('Reduced chi2: {:1.2}'.format(chi2))"
   ]
  },
  {
   "cell_type": "code",
   "execution_count": 25,
   "metadata": {},
   "outputs": [
    {
     "name": "stdout",
     "output_type": "stream",
     "text": [
      "---------------------------------------------------------------------------------------------\n",
      "|   | Name    |   Value   | Hesse Err | Minos Err- | Minos Err+ | Limit-  | Limit+  | Fixed |\n",
      "---------------------------------------------------------------------------------------------\n",
      "| 0 | N       |    8.1    |    0.9    |            |            |    1    |   50    |       |\n",
      "| 1 | lambda_ |  1.9E-4   |  0.4E-4   |            |            |    0    |   10    |       |\n",
      "---------------------------------------------------------------------------------------------\n"
     ]
    },
    {
     "name": "stderr",
     "output_type": "stream",
     "text": [
      "/Users/palacio/.conda/envs/envPython3/lib/python3.7/site-packages/ipykernel_launcher.py:20: MatplotlibDeprecationWarning: \n",
      "The 'normed' kwarg was deprecated in Matplotlib 2.1 and will be removed in 3.1. Use 'density' instead.\n"
     ]
    },
    {
     "data": {
      "image/png": "[encoded data removed]",
      "text/plain": [
       "<Figure size 1080x504 with 1 Axes>"
      ]
     },
     "metadata": {
      "needs_background": "light"
     },
     "output_type": "display_data"
    }
   ],
   "source": [
    "fig = plt.figure(figsize=(15,7))\n",
    "\n",
    "xx = []\n",
    "yy = []\n",
    "yy_l = []\n",
    "yy_u = []\n",
    "\n",
    "\n",
    "for i in range(0,int(max(runtime_po214_Unblind)),100):\n",
    "    xx.append(i)\n",
    "    yy.append(pol214_expo(i,A0_fit,lambda_fit))\n",
    "    yy_l.append(pol214_expo(i,A0_fit + delta_A0_fit, lambda_fit + delta_lambda_fit ))\n",
    "    yy_u.append(pol214_expo(i,A0_fit - delta_A0_fit, lambda_fit - delta_lambda_fit))\n",
    "\n",
    "    \n",
    "plt.hist(runtime_po214_Unblind, int(binsUnblind), normed=0, facecolor='steelblue',edgecolor = 'black',histtype='stepfilled',alpha = 1,linewidth = 1.2, label='monA');\n",
    "#plt.scatter(histPol214_x, histPol214_y)\n",
    "#plt.scatter(histPol214_x, histPol214_y_norm)\n",
    "\n",
    "plt.plot(xx,yy,linewidth = 1.5, label='best fit')\n",
    "plt.plot(xx,yy_l,linestyle = '')\n",
    "plt.plot(xx,yy_u,linestyle = '')\n",
    "plt.fill_between(xx,yy_l,yy_u, color='darkblue', alpha='0.2')\n",
    "\n",
    "\n",
    "numBinPlot=70\n",
    "plt.text(histPol214_x[numBinPlot], np.max(histPol214_y)*0.95, r'A$_0$ = {:3.1e}'.format(A0_fit/binWidth) + ' +- {:3.1e}'.format(delta_A0_fit/binWidth) + ' counts in min$_0$',fontsize=18)\n",
    "plt.text(histPol214_x[numBinPlot], np.max(histPol214_y)*0.85, r'$\\lambda$ = {:3.2e}'.format(lambda_fit) + ' +- {:3.2e}'.format(delta_lambda_fit) + ' [1/min]' ,fontsize=18)\n",
    "plt.text(histPol214_x[numBinPlot], np.max(histPol214_y)*0.75, r'Reduced chi2: {:1.2f}'.format(chi2),fontsize=18)\n",
    "plt.text(histPol214_x[numBinPlot], np.max(histPol214_y)*0.65, r'Bin size: {:1.0f}'.format(binWidth)+' min',fontsize=18)\n",
    "activity = rdEmanation.standard_strength(a_s,t_e,lRn)\n",
    "plt.text(histPol214_x[numBinPlot], np.max(histPol214_y)*0.55, r'A$_0^t$ = {:3.2f}'.format(activity*60) + ' counts in min$_0$ ($\\epsilon$ = {:3.2f}'.format((A0_fit/binWidth)/(activity*60))+')', color = 'red', fontsize=18)\n",
    "plt.text(histPol214_x[numBinPlot], np.max(histPol214_y)*0.45, r'$\\lambda^t$ = {:3.2e}'.format(lRn*60.) + ' [1/min]', color = 'red', fontsize=18)\n",
    "\n",
    "plt.xlabel('',fontsize=20)\n",
    "plt.title('Po-214 events ',fontsize=20)\n",
    "plt.xlabel('run time [min]')\n",
    "plt.ylabel('Po-222 decayed events [# events]',fontsize=20)\n",
    "\n",
    "#plt.xlim(250,350)\n",
    "#plt.ylim(1e-2,2000)\n",
    "plt.xticks(fontsize = 18)\n",
    "plt.yticks(fontsize = 18)\n",
    "plt.legend(loc='upper right',fontsize = '18')\n",
    "plt.tick_params(direction='in', length=10, width=1, colors='black')\n",
    "plt.xticks( rotation=25 )\n",
    "plt.grid()\n",
    "#plt.savefig(\"spectra_po210.svg\")\n",
    "\n",
    "\n",
    "plt.show()"
   ]
  },
  {
   "cell_type": "markdown",
   "metadata": {},
   "source": [
    "- Calculate here the activity at time equal zero\n",
    "- From the activity, "
   ]
  },
  {
   "cell_type": "markdown",
   "metadata": {},
   "source": [
    "# Po-214 / Po-218 ratio and Po-210 rate evolution"
   ]
  },
  {
   "cell_type": "markdown",
   "metadata": {},
   "source": [
    "The ratio of Po-218 and Po-214 events turned out to be an indicator for a change in the collection efficiency of the radon daughters.\n"
   ]
  },
  {
   "cell_type": "code",
   "execution_count": 20,
   "metadata": {},
   "outputs": [
    {
     "name": "stdout",
     "output_type": "stream",
     "text": [
      "\u001b[1mPo-214 / Po-218 ratio: ( 1.377 +/- 1.38) \n"
     ]
    }
   ],
   "source": [
    "Po_ratio_214_218 = rdEmanationActivity.element_ratio(len(channel_po214_Unblind),len(channel_po218_Unblind))\n",
    "ePo_ratio_214_218 = rdEmanationActivity.element_ratio(len(channel_po214_Unblind),len(channel_po218_Unblind))\n",
    "\n",
    "print ('\\033[1m' + 'Po-214 / Po-218 ratio: ({:6.3f}'.format(Po_ratio_214_218) + ' +/- {:2.3}'.format(ePo_ratio_214_218) + ') ')"
   ]
  },
  {
   "cell_type": "markdown",
   "metadata": {},
   "source": [
    "**NOTE:**\n",
    "- $\\color{red}{\\text{}}$"
   ]
  },
  {
   "cell_type": "markdown",
   "metadata": {},
   "source": [
    "The Po-210 rate, on the other hand is expected to be constant due to the long half-life of Pb-210 (>20 years). Any non constant behaviour might indicate noise contamination."
   ]
  },
  {
   "cell_type": "code",
   "execution_count": 21,
   "metadata": {},
   "outputs": [
    {
     "name": "stderr",
     "output_type": "stream",
     "text": [
      "/Users/palacio/.conda/envs/envPython3/lib/python3.7/site-packages/ipykernel_launcher.py:4: MatplotlibDeprecationWarning: \n",
      "The 'normed' kwarg was deprecated in Matplotlib 2.1 and will be removed in 3.1. Use 'density' instead.\n",
      "  after removing the cwd from sys.path.\n",
      "/Users/palacio/.conda/envs/envPython3/lib/python3.7/site-packages/ipykernel_launcher.py:6: MatplotlibDeprecationWarning: \n",
      "The 'normed' kwarg was deprecated in Matplotlib 2.1 and will be removed in 3.1. Use 'density' instead.\n",
      "  \n"
     ]
    },
    {
     "data": {
      "image/png": "[encoded data removed]",
      "text/plain": [
       "<Figure size 720x360 with 1 Axes>"
      ]
     },
     "metadata": {
      "needs_background": "light"
     },
     "output_type": "display_data"
    }
   ],
   "source": [
    "fig = plt.figure(figsize=(10,5))\n",
    "\n",
    "binsUnblind = (max(runtime_po210_Unblind)-min(runtime_po210_Unblind)-1)/50\n",
    "plt.hist(runtime_po210_Unblind, int(binsUnblind), normed=0, facecolor='steelblue',edgecolor = 'black',histtype='stepfilled',alpha = 1,linewidth = 1.2);\n",
    "binsBlind = (max(runtime_po210_Blind)-min(runtime_po210_Blind)-1)/50\n",
    "plt.hist(runtime_po210_Blind, int(binsBlind), normed=0, facecolor='orange',edgecolor = 'black',histtype='stepfilled',alpha = 1,linewidth = 1.2);\n",
    "\n",
    "#plt.yscale('log', nonposy='clip')\n",
    "plt.xlabel('runtime [min]',fontsize=20)\n",
    "plt.ylabel('number of counts',fontsize=20)\n",
    "#plt.xlim(0.1, 800)\n",
    "#plt.ylim(0.1,800)\n",
    "plt.xticks(fontsize = 18)\n",
    "plt.yticks(fontsize = 18)\n",
    "plt.tick_params(direction='in', length=10, width=1, colors='black')\n",
    "plt.title('Time evolution of Po-210 events for runtime > {:3.0f}'.format(tBlind) + ' min.',loc='left',fontsize = 15, weight = 'bold')\n",
    "#plt.savefig(\"hexe_ptfe_blank.svg\")\n",
    "\n",
    "plt.show()"
   ]
  },
  {
   "cell_type": "markdown",
   "metadata": {},
   "source": [
    "# Po-210 activity"
   ]
  },
  {
   "cell_type": "code",
   "execution_count": 22,
   "metadata": {},
   "outputs": [
    {
     "name": "stdout",
     "output_type": "stream",
     "text": [
      "\u001b[1mactivity Po-210: ( 2.687 +/- 0.194 mBq) \n"
     ]
    }
   ],
   "source": [
    "activityPo210=rdEmanationActivity.act(len(channel_po210_Blind)+len(channel_po210_Unblind),0,max(runtime_Unblind)*60,1,lPo210)\n",
    "eactivityPo210=rdEmanationActivity.err_act(len(channel_po210_Blind)+len(channel_po210_Unblind),0,max(runtime_Unblind)*60,1,0,lPo210)\n",
    "\n",
    "print ('\\033[1m' + 'activity Po-210: ({:6.3f}'.format(activityPo210*1000) + ' +/- {:2.3}'.format(eactivityPo210*1000) + ' mBq) ')"
   ]
  },
  {
   "cell_type": "markdown",
   "metadata": {},
   "source": [
    "### Calculation of activity induced in future calibration measurement\n",
    "We calculate now the activity induced on the calibration measurement.\n",
    "This number is used to calculate the efficiency of monA."
   ]
  },
  {
   "cell_type": "code",
   "execution_count": 15,
   "metadata": {},
   "outputs": [
    {
     "name": "stdout",
     "output_type": "stream",
     "text": [
      "\u001b[94mA(t) = Ao * e^(-t*lambda_)\n",
      "\n",
      "\u001b[94mWhere:\n"
     ]
    },
    {
     "ename": "NameError",
     "evalue": "name 'A0' is not defined",
     "output_type": "error",
     "traceback": [
      "\u001b[0;31m---------------------------------------------------------------------------\u001b[0m",
      "\u001b[0;31mNameError\u001b[0m                                 Traceback (most recent call last)",
      "\u001b[0;32m<ipython-input-15-bacd6bdd34ad>\u001b[0m in \u001b[0;36m<module>\u001b[0;34m\u001b[0m\n\u001b[1;32m      2\u001b[0m \u001b[0mprint\u001b[0m \u001b[0;34m(\u001b[0m\u001b[0;34m''\u001b[0m\u001b[0;34m)\u001b[0m\u001b[0;34m\u001b[0m\u001b[0;34m\u001b[0m\u001b[0m\n\u001b[1;32m      3\u001b[0m \u001b[0mprint\u001b[0m \u001b[0;34m(\u001b[0m\u001b[0;34m'\\033[94m'\u001b[0m \u001b[0;34m+\u001b[0m \u001b[0;34m'Where:'\u001b[0m\u001b[0;34m)\u001b[0m\u001b[0;34m\u001b[0m\u001b[0;34m\u001b[0m\u001b[0m\n\u001b[0;32m----> 4\u001b[0;31m \u001b[0mprint\u001b[0m \u001b[0;34m(\u001b[0m\u001b[0;34m'\\033[94m'\u001b[0m \u001b[0;34m+\u001b[0m \u001b[0;34m'Ao = {:3.1e}'\u001b[0m\u001b[0;34m.\u001b[0m\u001b[0mformat\u001b[0m\u001b[0;34m(\u001b[0m\u001b[0mA0\u001b[0m\u001b[0;34m)\u001b[0m \u001b[0;34m+\u001b[0m \u001b[0;34m' +- {:3.1e}'\u001b[0m\u001b[0;34m.\u001b[0m\u001b[0mformat\u001b[0m\u001b[0;34m(\u001b[0m\u001b[0mmm\u001b[0m\u001b[0;34m.\u001b[0m\u001b[0merrors\u001b[0m\u001b[0;34m[\u001b[0m\u001b[0;36m0\u001b[0m\u001b[0;34m]\u001b[0m\u001b[0;34m/\u001b[0m\u001b[0mbinWidth\u001b[0m\u001b[0;34m)\u001b[0m \u001b[0;34m+\u001b[0m \u001b[0;34m' counts/min0'\u001b[0m\u001b[0;34m)\u001b[0m\u001b[0;34m\u001b[0m\u001b[0;34m\u001b[0m\u001b[0m\n\u001b[0m\u001b[1;32m      5\u001b[0m \u001b[0mprint\u001b[0m \u001b[0;34m(\u001b[0m\u001b[0;34m'\\033[94m'\u001b[0m \u001b[0;34m+\u001b[0m \u001b[0;34m'lambda_ = {:3.2e}'\u001b[0m\u001b[0;34m.\u001b[0m\u001b[0mformat\u001b[0m\u001b[0;34m(\u001b[0m\u001b[0mmm\u001b[0m\u001b[0;34m.\u001b[0m\u001b[0mvalues\u001b[0m\u001b[0;34m[\u001b[0m\u001b[0;36m1\u001b[0m\u001b[0;34m]\u001b[0m\u001b[0;34m)\u001b[0m \u001b[0;34m+\u001b[0m \u001b[0;34m' +- {:3.2e}'\u001b[0m\u001b[0;34m.\u001b[0m\u001b[0mformat\u001b[0m\u001b[0;34m(\u001b[0m\u001b[0mmm\u001b[0m\u001b[0;34m.\u001b[0m\u001b[0merrors\u001b[0m\u001b[0;34m[\u001b[0m\u001b[0;36m1\u001b[0m\u001b[0;34m]\u001b[0m\u001b[0;34m)\u001b[0m \u001b[0;34m+\u001b[0m \u001b[0;34m' [1/min]'\u001b[0m\u001b[0;34m)\u001b[0m\u001b[0;34m\u001b[0m\u001b[0;34m\u001b[0m\u001b[0m\n\u001b[1;32m      6\u001b[0m \u001b[0mprint\u001b[0m \u001b[0;34m(\u001b[0m\u001b[0;34m''\u001b[0m\u001b[0;34m)\u001b[0m\u001b[0;34m\u001b[0m\u001b[0;34m\u001b[0m\u001b[0m\n",
      "\u001b[0;31mNameError\u001b[0m: name 'A0' is not defined"
     ]
    }
   ],
   "source": [
    "print ('\\033[94m' + 'A(t) = Ao * e^(-t*lambda_)')\n",
    "print ('')\n",
    "print ('\\033[94m' + 'Where:')\n",
    "print ('\\033[94m' + 'Ao = {:3.1e}'.format(A0) + ' +- {:3.1e}'.format(mm.errors[0]/binWidth) + ' counts/min0')\n",
    "print ('\\033[94m' + 'lambda_ = {:3.2e}'.format(mm.values[1]) + ' +- {:3.2e}'.format(mm.errors[1]) + ' [1/min]')\n",
    "print ('')\n",
    "print ('\\033[94m' + 'Emanation measurement started on 2019/07/28 @ 11:24')\n",
    "print ('\\033[94m' + 'Calibration measurement started on 2019/08/17 @ 14:25')\n",
    "\n",
    "d2=20\n",
    "h2=3\n",
    "m2=1\n",
    "s2=0\n",
    "\n",
    "minutes=(d2*24*60 + h2*60 + m2 +s2/60.)\n",
    "activity=pol214_expo(minutes,A0,mm.values[1])\n",
    "print ('\\033[94m' + 'Minutes passed between emanation and calibration measured = {:3.0f}'.format(minutes))\n",
    "print ('')\n",
    "print ('\\033[94m' + 'Activity induced = {:3.0e}'.format(activity)+' decay events/min0')"
   ]
  },
  {
   "cell_type": "code",
   "execution_count": 24,
   "metadata": {},
   "outputs": [
    {
     "data": {
      "text/html": [
       "<script>\n",
       "code_show=false; \n",
       "function code_toggle() {\n",
       " if (code_show){\n",
       " $('div.input').hide();\n",
       " } else {\n",
       " $('div.input').show();\n",
       " }\n",
       " code_show = !code_show\n",
       "} \n",
       "$( document ).ready(code_toggle);\n",
       "</script>\n",
       "The raw code for this IPython notebook is by default hidden for easier reading.\n",
       "To toggle on/off the raw code, click <a href=\"javascript:code_toggle()\">here</a>."
      ],
      "text/plain": [
       "<IPython.core.display.HTML object>"
      ]
     },
     "execution_count": 24,
     "metadata": {},
     "output_type": "execute_result"
    }
   ],
   "source": [
    "HTML('''<script>\n",
    "code_show=false; \n",
    "function code_toggle() {\n",
    " if (code_show){\n",
    " $('div.input').hide();\n",
    " } else {\n",
    " $('div.input').show();\n",
    " }\n",
    " code_show = !code_show\n",
    "} \n",
    "$( document ).ready(code_toggle);\n",
    "</script>\n",
    "The raw code for this IPython notebook is by default hidden for easier reading.\n",
    "To toggle on/off the raw code, click <a href=\"javascript:code_toggle()\">here</a>.''')"
   ]
  }
 ],
 "metadata": {
  "kernelspec": {
   "display_name": "Python 3",
   "language": "python",
   "name": "python3"
  },
  "language_info": {
   "codemirror_mode": {
    "name": "ipython",
    "version": 3
   },
   "file_extension": ".py",
   "mimetype": "text/x-python",
   "name": "python",
   "nbconvert_exporter": "python",
   "pygments_lexer": "ipython3",
   "version": "3.7.5"
  }
 },
 "nbformat": 4,
 "nbformat_minor": 2
}
