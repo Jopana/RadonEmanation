{
 "cells": [
  {
   "cell_type": "code",
   "execution_count": 1,
   "metadata": {},
   "outputs": [],
   "source": [
    "%matplotlib inline\n",
    "\n",
    "from math import*\n",
    "import matplotlib.pyplot as plt\n",
    "import numpy as np\n",
    "from array import*\n",
    "from matplotlib.colors import LogNorm\n",
    "import matplotlib.gridspec as gridspec\n",
    "from IPython.display import HTML\n",
    "from IPython.display import display\n",
    "import matplotlib.mlab as mlab\n",
    "from iminuit import Minuit, describe"
   ]
  },
  {
   "cell_type": "code",
   "execution_count": 2,
   "metadata": {},
   "outputs": [],
   "source": [
    "import sys\n",
    "sys.path.append(\"/Users/palacio/Work/workspace/Subatech/XenonNt/Radon/lib\")\n",
    "import rdEmanation as rdEmanation\n",
    "import rdEmanationActivity as rdEmanationActivity "
   ]
  },
  {
   "cell_type": "markdown",
   "metadata": {},
   "source": [
    "# Calibration Measurement"
   ]
  },
  {
   "cell_type": "markdown",
   "metadata": {},
   "source": [
    "## Calibration details:"
   ]
  },
  {
   "cell_type": "markdown",
   "metadata": {},
   "source": [
    "**Detector:** MonA <br>\n",
    "**Date:** 28.10.2019 <br>\n",
    "**Sample:** Calibration of 25mm-pipe from 20190728 <br>\n",
    "**Calibration standard:** Standard source V4. Expanded from SS to MonA. <br>\n",
    "**Filling pressure:** ($1300\\pm10)\\,$mbar <br>\n",
    "**Drift field:** $-1.\\,$kV\n",
    "\n",
    "**Description:** Calibration measurement taken for the \"emanation measurement\" of the 250mm-pipe extraction of the 20190728. This calibration was taken several days later, because of a second extractioni realized immediately afterwards.\" "
   ]
  },
  {
   "cell_type": "markdown",
   "metadata": {},
   "source": [
    "## Measurement parameters:"
   ]
  },
  {
   "cell_type": "markdown",
   "metadata": {},
   "source": [
    "#### Equilibrium activity of standard [Bq]:"
   ]
  },
  {
   "cell_type": "code",
   "execution_count": 3,
   "metadata": {},
   "outputs": [
    {
     "name": "stdout",
     "output_type": "stream",
     "text": [
      "\u001b[94msource strength: (0.0286 +/- 0.0009) Bq\n"
     ]
    }
   ],
   "source": [
    "#Enter standard activity in Bq\n",
    "a_s = 0.0286\n",
    "\n",
    "#Enter error on standard activity in Bq\n",
    "ea_s = 0.0009\n",
    "\n",
    "print ('\\033[94m' + 'source strength: ({:6.4f}'.format(a_s) + ' +/- {:2.4f}'.format(ea_s) + ') Bq')"
   ]
  },
  {
   "cell_type": "markdown",
   "metadata": {},
   "source": [
    "#### Emanation time of standard [d]:"
   ]
  },
  {
   "cell_type": "code",
   "execution_count": 4,
   "metadata": {},
   "outputs": [
    {
     "name": "stdout",
     "output_type": "stream",
     "text": [
      "\u001b[94mBeginning emanation: 20190808 @ 11:10\n",
      "\u001b[94mEnd emanation: 20190817 @ ~11:15\n",
      "\u001b[94mEmanation time of standard: (9.0035 +/- 0.0208) days\n"
     ]
    }
   ],
   "source": [
    "#Enter emanation time in days\n",
    "print ('\\033[94m' + 'Beginning emanation: 20190808 @ 11:10')\n",
    "print ('\\033[94m' + 'End emanation: 20190817 @ ~11:15')\n",
    "\n",
    "d = 9 #\n",
    "h = 0 #\n",
    "m = 5 #\n",
    "s = 0 #\n",
    "\n",
    "### The source was in equilibrium\n",
    "t_e = (m + h*60 + d*24*60)/(60*24.)\n",
    "\n",
    "#Enter error on emanation time in days. Usually neglible!\n",
    "et_e = 30./(60.*24.)\n",
    "\n",
    "print ('\\033[94m' + 'Emanation time of standard: ({:6.4f}'.format(t_e) + ' +/- {:2.4f}'.format(et_e) + ') days')"
   ]
  },
  {
   "cell_type": "markdown",
   "metadata": {},
   "source": [
    "#### Measurement times [sec]:"
   ]
  },
  {
   "cell_type": "code",
   "execution_count": 5,
   "metadata": {},
   "outputs": [
    {
     "name": "stdout",
     "output_type": "stream",
     "text": [
      "\u001b[94mExtraction finished on 20190817 @ ~11:15\n",
      "\u001b[94mMeasurement started on 20190817 @ 14:25\n",
      "\u001b[94mtime between emanation stop and start of run:  11400 seconds\n"
     ]
    }
   ],
   "source": [
    "#Time between emanation stop of the sample and the start of the measurement in seconds.\n",
    "print ('\\033[94m' + 'Extraction finished on 20190817 @ ~11:15')\n",
    "print ('\\033[94m' + 'Measurement started on 20190817 @ 14:25')\n",
    "\n",
    "d1 = 0 #\n",
    "h1 = 3 #\n",
    "m1 = 10 #\n",
    "s1 = 0 #\n",
    "\n",
    "t1 = d1*3600.*24 + h1*3600.+m1*60.+s1\n",
    "\n",
    "print ('\\033[94m' + 'time between emanation stop and start of run: {:6.0f}'.format(t1) + ' seconds')"
   ]
  },
  {
   "cell_type": "markdown",
   "metadata": {},
   "source": [
    "#### File name:"
   ]
  },
  {
   "cell_type": "code",
   "execution_count": 6,
   "metadata": {},
   "outputs": [
    {
     "name": "stdout",
     "output_type": "stream",
     "text": [
      "\u001b[94mfile name: /Users/palacio/Work/Subatech/XENONnt/Radon/250mmPipe/data/20190817/Ap17082019\n"
     ]
    }
   ],
   "source": [
    "mainPath='/Users/palacio/Work/Subatech/XENONnt/Radon/250mmPipe/data/20190817/'\n",
    "infile = mainPath+'Ap17082019'\n",
    "\n",
    "print ('\\033[94m' + 'file name: ' + infile)"
   ]
  },
  {
   "cell_type": "markdown",
   "metadata": {},
   "source": [
    "#### Po selection channel windows [min-max]:"
   ]
  },
  {
   "cell_type": "code",
   "execution_count": 7,
   "metadata": {},
   "outputs": [
    {
     "name": "stdout",
     "output_type": "stream",
     "text": [
      "\u001b[94mPo-214 selection window: [275,360] channel\n",
      "\u001b[94mPo-218 selection window: [245,275] channel\n",
      "\u001b[94mPo-210 selection window: [180,245] channel\n"
     ]
    }
   ],
   "source": [
    "pol214min=rdEmanation.def_Pol_ranges('Pol_214_min')\n",
    "pol214max=rdEmanation.def_Pol_ranges('Pol_214_max')\n",
    "pol218min=rdEmanation.def_Pol_ranges('Pol_218_min')\n",
    "pol218max=rdEmanation.def_Pol_ranges('Pol_218_max')\n",
    "pol210min=rdEmanation.def_Pol_ranges('Pol_210_min')\n",
    "pol210max=rdEmanation.def_Pol_ranges('Pol_210_max')\n",
    "\n",
    "print ('\\033[94m' + 'Po-214 selection window: [{:1.0f}'.format(pol214min) + ',' + '{:1.0f}'.format(pol214max) + '] channel')\n",
    "print ('\\033[94m' + 'Po-218 selection window: [{:1.0f}'.format(pol218min) + ',' + '{:1.0f}'.format(pol218max) + '] channel')\n",
    "print ('\\033[94m' + 'Po-210 selection window: [{:1.0f}'.format(pol210min) + ',' + '{:1.0f}'.format(pol210max) + '] channel')"
   ]
  },
  {
   "cell_type": "code",
   "execution_count": 8,
   "metadata": {},
   "outputs": [],
   "source": [
    "#Definition of the decay constants of radon and radium\n",
    "lRn = rdEmanationActivity.lRn()\n",
    "lRa = rdEmanationActivity.lRa()\n",
    "lPo210 = rdEmanationActivity.lPo210()"
   ]
  },
  {
   "cell_type": "markdown",
   "metadata": {},
   "source": [
    "## Quality plots"
   ]
  },
  {
   "cell_type": "code",
   "execution_count": 9,
   "metadata": {},
   "outputs": [],
   "source": [
    "#LOAD DATA\n",
    "indata = open(infile)\n",
    "channel_s = array('i',[0])\n",
    "timestamp_s = array('f',[0])\n",
    "runtime_s = array('f',[0])\n",
    "channel_1 = []\n",
    "runtime_1 = []\n",
    "timestamp_1 = []\n",
    "data = [[],[]]\n",
    "\n",
    "###runtime=0-> startUnixTime\n",
    "startUnixTime = 1368550200\n",
    "\n",
    "lineCount = 0\n",
    "timeOff = 0\n",
    "\n",
    "for line in indata:\n",
    "    a = line.split(',')\n",
    "    #a  = [ahelp.replace(',','.') for ahelp in aa]\n",
    "\n",
    "    lineCount = lineCount +1\n",
    "\n",
    "    for ebin in range(848):\n",
    "        entries = float(a[ebin])\n",
    "        \n",
    "        if entries > 0:            \n",
    "            numcounts = int(entries)\n",
    "\n",
    "            for evt in range(numcounts):\n",
    "                channel_s[0] = ebin\n",
    "                timestamp_s[0] = (float(a[848]) - startUnixTime)\n",
    "                runtime_s[0] = (float(a[849])/60)\n",
    "                channel_1.append(channel_s[0])\n",
    "                runtime_1.append(runtime_s[0])\n",
    "                timestamp_1.append(timestamp_s[0])"
   ]
  },
  {
   "cell_type": "code",
   "execution_count": 10,
   "metadata": {},
   "outputs": [],
   "source": [
    "tBlind=rdEmanation.blindingTime() #300 [min]\n",
    "\n",
    "channel_Unblind = []\n",
    "runtime_Unblind = []\n",
    "channel_Blind = []\n",
    "runtime_Blind = []\n",
    "for i in range(0,len(channel_1)):\n",
    "    if runtime_1[i] > tBlind:\n",
    "        channel_Unblind.append(channel_1[i])\n",
    "        runtime_Unblind.append(runtime_1[i])\n",
    "    else:\n",
    "        channel_Blind.append(channel_1[i])\n",
    "        runtime_Blind.append(runtime_1[i])"
   ]
  },
  {
   "cell_type": "code",
   "execution_count": 11,
   "metadata": {},
   "outputs": [
    {
     "name": "stderr",
     "output_type": "stream",
     "text": [
      "/Users/palacio/.conda/envs/envPython3/lib/python3.7/site-packages/ipykernel_launcher.py:8: MatplotlibDeprecationWarning: \n",
      "The 'normed' kwarg was deprecated in Matplotlib 2.1 and will be removed in 3.1. Use 'density' instead.\n",
      "  \n"
     ]
    },
    {
     "data": {
      "image/png": "[encoded data removed]",
      "text/plain": [
       "<Figure size 720x360 with 1 Axes>"
      ]
     },
     "metadata": {
      "needs_background": "light"
     },
     "output_type": "display_data"
    }
   ],
   "source": [
    "fig = plt.figure(figsize=(10,5))\n",
    "t = np.arange(0., 500., 1)\n",
    "\n",
    "bins = (max(channel_Unblind)-min(channel_Unblind))\n",
    "plt.axvspan(pol214min, pol214max, alpha=0.3, color='darkred',label ='Po-214')\n",
    "plt.axvspan(pol218min, pol218max, alpha=0.5, color='darkorange', label = 'Po-218')\n",
    "plt.axvspan(pol210min, pol210max, alpha=0.5, color='darkgray', label = 'Po-210')\n",
    "plt.hist(channel_Unblind, bins, normed=0, facecolor='steelblue',edgecolor = 'black',histtype='stepfilled',alpha = 1,linewidth = 1.2);\n",
    "\n",
    "plt.yscale('log', nonposy='clip')\n",
    "plt.xlabel('energy channel',fontsize=20)\n",
    "plt.ylabel('number of counts',fontsize=20)\n",
    "\n",
    "plt.xlim(1, 400)\n",
    "#plt.ylim(0.1,find_max(channel_Unblind))\n",
    "plt.ylim(0.1,1e5)\n",
    "plt.xticks(fontsize = 18)\n",
    "plt.yticks(fontsize = 18)\n",
    "plt.legend(loc='upper right',fontsize = 'large')\n",
    "plt.tick_params(direction='in', length=10, width=1, colors='black')\n",
    "#plt.grid()\n",
    "plt.title('Energy spectrum for runtime > {:3.0f}'.format(tBlind)+ ' min.',loc='left',fontsize = 15, weight = 'bold')\n",
    "#plt.savefig(\"hexe_ptfe_blank.svg\")\n",
    "\n",
    "plt.show()"
   ]
  },
  {
   "cell_type": "code",
   "execution_count": 12,
   "metadata": {},
   "outputs": [
    {
     "name": "stderr",
     "output_type": "stream",
     "text": [
      "/Users/palacio/.conda/envs/envPython3/lib/python3.7/site-packages/ipykernel_launcher.py:4: MatplotlibDeprecationWarning: \n",
      "The 'normed' kwarg was deprecated in Matplotlib 2.1 and will be removed in 3.1. Use 'density' instead.\n",
      "  after removing the cwd from sys.path.\n",
      "/Users/palacio/.conda/envs/envPython3/lib/python3.7/site-packages/ipykernel_launcher.py:6: MatplotlibDeprecationWarning: \n",
      "The 'normed' kwarg was deprecated in Matplotlib 2.1 and will be removed in 3.1. Use 'density' instead.\n",
      "  \n"
     ]
    },
    {
     "data": {
      "image/png": "[encoded data removed]",
      "text/plain": [
       "<Figure size 720x360 with 1 Axes>"
      ]
     },
     "metadata": {
      "needs_background": "light"
     },
     "output_type": "display_data"
    }
   ],
   "source": [
    "fig = plt.figure(figsize=(10,5))\n",
    "\n",
    "binsUnblind = (max(runtime_Unblind)-min(runtime_Unblind)-1)#len(run_po212_1)/80\n",
    "binsUnblindPo212 = plt.hist(runtime_Unblind, int(binsUnblind), normed=0, facecolor='steelblue',edgecolor = 'black',histtype='stepfilled',alpha = 1,linewidth = 1.2, label='runtime > {:3.0f}'.format(tBlind) + ' min.');\n",
    "binsBlind = (max(runtime_Blind)-min(runtime_Blind)-1)#len(run_po212_1)/80\n",
    "binsBlindPo212 = plt.hist(runtime_Blind, int(binsBlind), normed=0, facecolor='orange', edgecolor = 'black',histtype='stepfilled',alpha = 1,linewidth = 1.2, label='runtime < {:3.0f}'.format(tBlind) + ' min.');\n",
    "\n",
    "#plt.yscale('log', nonposy='clip')\n",
    "plt.xlabel('runtime [min]',fontsize=20)\n",
    "plt.ylabel('number of counts',fontsize=20)\n",
    "#plt.xlim(0.1, 800)\n",
    "#plt.ylim(0.1,800)\n",
    "plt.xticks(fontsize = 18)\n",
    "plt.yticks(fontsize = 18)\n",
    "plt.tick_params(direction='in', length=10, width=1, colors='black')\n",
    "plt.title('Time evolution of all events',loc='center',fontsize = 15, weight = 'bold')\n",
    "plt.legend()\n",
    "#plt.savefig(\"hexe_ptfe_blank.svg\")\n",
    "\n",
    "plt.show()"
   ]
  },
  {
   "cell_type": "code",
   "execution_count": 13,
   "metadata": {},
   "outputs": [],
   "source": [
    "channel_po214_Unblind = []\n",
    "runtime_po214_Unblind = []\n",
    "channel_po214_Blind = []\n",
    "runtime_po214_Blind = []\n",
    "for i in range(0,len(channel_1)):\n",
    "    if ((channel_1[i] > pol214min) & (channel_1[i]<pol214max)) and runtime_1[i] > tBlind:\n",
    "        channel_po214_Unblind.append(channel_1[i])\n",
    "        runtime_po214_Unblind.append(runtime_1[i])\n",
    "    elif ((channel_1[i] > pol214min) & (channel_1[i]<pol214max)) and runtime_1[i] < tBlind:\n",
    "        channel_po214_Blind.append(channel_1[i])\n",
    "        runtime_po214_Blind.append(runtime_1[i])       \n",
    "\n",
    "        \n",
    "channel_po218_Unblind = []\n",
    "runtime_po218_Unblind = []\n",
    "channel_po218_Blind = []\n",
    "runtime_po218_Blind = []\n",
    "for i in range(0,len(channel_1)):\n",
    "    if ((channel_1[i] > pol218min) & (channel_1[i]<pol218max)) and runtime_1[i] > tBlind:\n",
    "        channel_po218_Unblind.append(channel_1[i])\n",
    "        runtime_po218_Unblind.append(runtime_1[i])\n",
    "    elif ((channel_1[i] > pol218min) & (channel_1[i]<pol218max)) and runtime_1[i] < tBlind:\n",
    "        channel_po218_Blind.append(channel_1[i])\n",
    "        runtime_po218_Blind.append(runtime_1[i])        \n",
    "       \n",
    "\n",
    "    \n",
    "channel_po210_Unblind = []\n",
    "runtime_po210_Unblind = []\n",
    "channel_po210_Blind = []\n",
    "runtime_po210_Blind = []\n",
    "for i in range(0,len(channel_1)):\n",
    "    if ((channel_1[i] > pol210min) & (channel_1[i]<pol210max)) and runtime_1[i] > tBlind:\n",
    "        channel_po210_Unblind.append(channel_1[i])\n",
    "        runtime_po210_Unblind.append(runtime_1[i])\n",
    "    elif ((channel_1[i] > pol210min) & (channel_1[i]<pol210max)) and runtime_1[i] < tBlind:\n",
    "        channel_po210_Blind.append(channel_1[i])\n",
    "        runtime_po210_Blind.append(runtime_1[i])        "
   ]
  },
  {
   "cell_type": "markdown",
   "metadata": {},
   "source": [
    "# Calculation of monA efficiency"
   ]
  },
  {
   "cell_type": "markdown",
   "metadata": {},
   "source": [
    "## Efficieny method 1\n",
    "Based on the number of measured events Po-214 between (t1+tBlind) and t2\n",
    "- t1: start data taking\n",
    "- tblind: time to reach Po-214 equilibrium (by default 300 min)\n",
    "- t2: stop data taking"
   ]
  },
  {
   "cell_type": "code",
   "execution_count": 175,
   "metadata": {},
   "outputs": [
    {
     "name": "stderr",
     "output_type": "stream",
     "text": [
      "/Users/palacio/.conda/envs/envPython3/lib/python3.7/site-packages/ipykernel_launcher.py:6: MatplotlibDeprecationWarning: \n",
      "The 'normed' kwarg was deprecated in Matplotlib 2.1 and will be removed in 3.1. Use 'density' instead.\n",
      "  \n"
     ]
    },
    {
     "data": {
      "image/png": "[encoded data removed]",
      "text/plain": [
       "<Figure size 720x360 with 1 Axes>"
      ]
     },
     "metadata": {
      "needs_background": "light"
     },
     "output_type": "display_data"
    }
   ],
   "source": [
    "fig = plt.figure(figsize=(10,5))\n",
    "t = np.arange(0., 500., 1)\n",
    "\n",
    "binsUnblind = (max(channel_po214_Unblind)-min(channel_po214_Unblind))\n",
    "plt.axvspan(650, 750, alpha=0.5, color='darkgray')\n",
    "plt.hist(channel_po214_Unblind, binsUnblind, normed=0, facecolor='steelblue',edgecolor = 'black',histtype='stepfilled',alpha = 1,linewidth = 1.2);\n",
    "#plt.yscale('log', nonposy='clip')\n",
    "plt.xlabel('energy channel',fontsize=20)\n",
    "plt.ylabel('number of counts',fontsize=20)\n",
    "plt.xlim(pol214min, pol214max)\n",
    "plt.ylim(0,rdEmanation.find_max(channel_po214_Unblind))\n",
    "plt.xticks(fontsize = 18)\n",
    "plt.yticks(fontsize = 18)\n",
    "#plt.legend(loc='upper right',fontsize = 'large')\n",
    "plt.tick_params(direction='in', length=10, width=1, colors='black')\n",
    "#plt.grid()\n",
    "plt.title('Pol-214 events for runtime > {:3.0f}'.format(tBlind) + ' min.',loc='center',fontsize = 15, weight = 'bold')\n",
    "#plt.savefig(\"hexe_ptfe_blank.svg\")\n",
    "\n",
    "\n",
    "counts = len(channel_po214_Unblind)\n",
    "err_counts = np.sqrt(counts)\n",
    "plt.text(pol214min*1.01, rdEmanation.find_max(channel_po214_Unblind)*0.85, r'number of Po-214 events: ({:3.0f}'.format(counts) + ' +/- {:3.0f}'.format(err_counts) +')', color = 'red', fontsize=14)\n",
    "\n",
    "\n",
    "\n",
    "plt.show()"
   ]
  },
  {
   "cell_type": "code",
   "execution_count": 158,
   "metadata": {},
   "outputs": [],
   "source": [
    "# t2 = time since emanation stoped until measurement stoped [s]\n",
    "t2 = t1 + (int(max(runtime_1)))*60. - tBlind*60 "
   ]
  },
  {
   "cell_type": "code",
   "execution_count": 159,
   "metadata": {},
   "outputs": [
    {
     "name": "stdout",
     "output_type": "stream",
     "text": [
      "\u001b[1mSource activity:  0.023 +/- 0.008 decay events/s\n",
      "\n",
      "\u001b[1mNumber of measured decayed events between t1(+tBlind) and t2:   1190 +/- 34  events\n",
      "\n",
      "\n",
      "\u001b[1mDETECTION EFFICIENCY: ( 0.118 +/- 0.042) \n"
     ]
    }
   ],
   "source": [
    "#------ Determination of the number of counts and the efficieny ----------\n",
    "activity = rdEmanation.standard_strength(a_s,t_e,lRn)\n",
    "err_activity = rdEmanation.err_standard_strength(t_e,et_e,a_s,ea_s,lRn)\n",
    "print ('\\033[1m' + 'Source activity: {:6.3f}'.format(activity) + ' +/- {:2.3f}'.format(err_activity) + ' decay events/s')\n",
    "print('')\n",
    "\n",
    "\n",
    "print ('\\033[1m' + 'Number of measured decayed events between t1(+tBlind) and t2: {:6.0f}'.format(counts) + ' +/- {:2.0f}'.format(err_counts) + '  events')\n",
    "print('')\n",
    "\n",
    "\n",
    "\n",
    "value = rdEmanation.calc_eff_rdMonitor(counts,activity,lRn,t1,t2);\n",
    "error = rdEmanation.calc_err_eff_rdMonitor(counts,err_counts, activity, err_activity, lRn, t1, t2);\n",
    "\n",
    "print('')\n",
    "print ('\\033[1m' + 'DETECTION EFFICIENCY: ({:6.3f}'.format(value) + ' +/- {:2.3f}'.format(error) + ') ')"
   ]
  },
  {
   "cell_type": "markdown",
   "metadata": {},
   "source": [
    "## Efficieny method 2\n",
    "We fit the time evolution of Po-214 events with an exponential decay."
   ]
  },
  {
   "cell_type": "code",
   "execution_count": 157,
   "metadata": {},
   "outputs": [
    {
     "name": "stderr",
     "output_type": "stream",
     "text": [
      "/Users/palacio/.conda/envs/envPython3/lib/python3.7/site-packages/ipykernel_launcher.py:5: MatplotlibDeprecationWarning: \n",
      "The 'normed' kwarg was deprecated in Matplotlib 2.1 and will be removed in 3.1. Use 'density' instead.\n",
      "  \"\"\"\n",
      "/Users/palacio/.conda/envs/envPython3/lib/python3.7/site-packages/ipykernel_launcher.py:7: MatplotlibDeprecationWarning: \n",
      "The 'normed' kwarg was deprecated in Matplotlib 2.1 and will be removed in 3.1. Use 'density' instead.\n",
      "  import sys\n"
     ]
    },
    {
     "data": {
      "image/png": "[encoded data removed]",
      "text/plain": [
       "<Figure size 720x360 with 1 Axes>"
      ]
     },
     "metadata": {
      "needs_background": "light"
     },
     "output_type": "display_data"
    }
   ],
   "source": [
    "fig = plt.figure(figsize=(10,5))\n",
    "binWidthDef=100 #[min]\n",
    "\n",
    "binsUnblind = (max(runtime_po214_Unblind)-tBlind)/binWidthDef\n",
    "histPol214 = plt.hist(runtime_po214_Unblind, int(binsUnblind), normed=0, facecolor='steelblue',edgecolor = 'black',histtype='stepfilled',alpha = 1,linewidth = 1.2, label= 'for runtime > {:3.0f}'.format(tBlind) + ' min.');\n",
    "binsBlind = (tBlind-0)/binWidthDef\n",
    "plt.hist(runtime_po214_Blind, int(binsBlind), normed=0, facecolor='orange',edgecolor = 'orange',histtype='stepfilled',alpha = 1,linewidth = 1.2,  label= 'for runtime < {:3.0f}'.format(tBlind) + ' min.');\n",
    "\n",
    "#plt.yscale('log', nonposy='clip')\n",
    "plt.xlabel('runtime [min]',fontsize=20)\n",
    "plt.ylabel('number of counts',fontsize=20)\n",
    "#plt.xlim(0, 350)\n",
    "#plt.ylim(0.1,800)\n",
    "plt.xticks(fontsize = 18)\n",
    "plt.yticks(fontsize = 18)\n",
    "plt.tick_params(direction='in', length=10, width=1, colors='black')\n",
    "plt.title('Time evolution of Po-214 events',loc='center',fontsize = 15, weight = 'bold')\n",
    "#plt.savefig(\"hexe_ptfe_blank.svg\")\n",
    "plt.legend()\n",
    "\n",
    "plt.show()"
   ]
  },
  {
   "cell_type": "code",
   "execution_count": 59,
   "metadata": {},
   "outputs": [],
   "source": [
    "# define hist_x and hist_y from plot above\n",
    "histPol214_x_long=histPol214[1]\n",
    "binWidth=(histPol214_x_long[2]-histPol214_x_long[1])\n",
    "histPol214_y=histPol214[0]\n",
    "histPol214_x=np.empty(np.size(histPol214_y))\n",
    "histPol214_y_norm=np.empty(np.size(histPol214_y))\n",
    "\n",
    "\n",
    "for  i in range(0,len(histPol214_x)):\n",
    "    histPol214_x[i]=(histPol214_x_long[i]+histPol214_x_long[i+1])/2\n",
    "    \n",
    "    histPol214_y_norm[i]=histPol214_y[i]/binWidth"
   ]
  },
  {
   "cell_type": "code",
   "execution_count": 133,
   "metadata": {},
   "outputs": [
    {
     "data": {
      "text/plain": [
       "['Ao', 'lambda_']"
      ]
     },
     "execution_count": 133,
     "metadata": {},
     "output_type": "execute_result"
    }
   ],
   "source": [
    "# Define x^2-function which needs to be minimized.\n",
    "\"\"\"\n",
    "Author: Joaquim Palacio\n",
    "Date: 2019/10/31\n",
    "Description: exponential decay of Rn-214\n",
    "Variables:\n",
    "t = time [min]\n",
    "Ao = A(t=t_0) = Rn-222 decayed atoms at t=t_0\n",
    "_lambda = Rn-222 decay rate: (-log(0.5)/(3.84*24*60)) [1/min]\n",
    "\n",
    "Return = number of decayed Rn-222 atoms/min vs time \n",
    "\"\"\"\n",
    "def pol214_expo(t,Ao,lambda_):\n",
    "    return Ao * np.exp(-t*lambda_)\n",
    "    \n",
    "\n",
    "# Define x^2-function which needs to be minimized.\n",
    "\"\"\"\n",
    "Author: Joaquim Palacio\n",
    "Date: 2019/10/31\n",
    "Description: exponential decay of Rn-222 to fit in the likelihood\n",
    "Ao = A(t=t_0) = number of Rn-222 atoms at t=t_0\n",
    "_lambda = Rn-222 decay rate: (-log(0.5)/(3.84*24*60)) [1/min]\n",
    "\n",
    "Return = Likelihood defined by \n",
    "  Chi2 = [y_data-f(x_data)]**2/sigma_data**2\n",
    "\"\"\"\n",
    "def pol214_expo_fit(Ao,lambda_):\n",
    "    s_terms=0\n",
    "\n",
    "    #xdata = hist_x[i]\n",
    "    #ydata = hist_y[i]\n",
    "    #delta_ydata = sqrt(hist_y[i])\n",
    "    #f(x) = A * np.exp(-x*B)\n",
    "    \n",
    "    for i in range(0,len(histPol214_x)-1):\n",
    "        # Ignore empty bins (not super correct...)\n",
    "        if histPol214_y[i] == 0.:\n",
    "            continue\n",
    "        \n",
    "        term = (histPol214_y[i]-(Ao * np.exp(-histPol214_x[i]*lambda_)))**2/histPol214_y[i]\n",
    "        s_terms = s_terms + term\n",
    "\n",
    "    return s_terms  \n",
    "\n",
    "#import minuit, describe\n",
    "describe(pol214_expo_fit)"
   ]
  },
  {
   "cell_type": "code",
   "execution_count": 142,
   "metadata": {},
   "outputs": [
    {
     "name": "stderr",
     "output_type": "stream",
     "text": [
      "/Users/palacio/.conda/envs/envPython3/lib/python3.7/site-packages/ipykernel_launcher.py:4: InitialParamWarning: Parameter Ao is floating but does not have initial step size. Assume 1.\n",
      "  after removing the cwd from sys.path.\n",
      "/Users/palacio/.conda/envs/envPython3/lib/python3.7/site-packages/ipykernel_launcher.py:4: InitialParamWarning: Parameter lambda_ is floating but does not have initial step size. Assume 1.\n",
      "  after removing the cwd from sys.path.\n",
      "/Users/palacio/.conda/envs/envPython3/lib/python3.7/site-packages/ipykernel_launcher.py:4: InitialParamWarning: errordef is not given. Default to 1.\n",
      "  after removing the cwd from sys.path.\n"
     ]
    }
   ],
   "source": [
    "lRn_min = lRn*60.\n",
    "\n",
    "#mm = Minuit(pol214_expo_fit, Ao = 10, lambda_ = lRn_min, limit_Ao = (1,50) , limit_lambda_ = (0.,10.));\n",
    "mm = Minuit(pol214_expo_fit, Ao= 30, limit_Ao = (1,50), lambda_ = lRn_min, limit_lambda_ = (lRn_min*(1-0.001),lRn_min*(1+0.001)));\n",
    "\n"
   ]
  },
  {
   "cell_type": "code",
   "execution_count": 143,
   "metadata": {},
   "outputs": [
    {
     "data": {
      "text/html": [
       "<table>\n",
       "<tr>\n",
       "<td colspan=\"2\" title=\"Minimum value of function\">\n",
       "FCN = 172.2\n",
       "</td>\n",
       "<td align=\"center\" colspan=\"3\" title=\"No. of calls in last algorithm and total number of calls\">\n",
       "Ncalls = 56 (56 total)\n",
       "</td>\n",
       "</tr>\n",
       "<tr>\n",
       "<td colspan=\"2\" title=\"Estimated distance to minimum and target threshold\">\n",
       "EDM = 1.58E-05 (Goal: 1E-05)\n",
       "</td>\n",
       "<td align=\"center\" colspan=\"3\" title=\"Increase in FCN which corresponds to 1 standard deviation\">\n",
       "up = 1.0\n",
       "</td>\n",
       "</tr>\n",
       "<tr>\n",
       "<td align=\"center\" title=\"Validity of the migrad call\">\n",
       "Valid Min.\n",
       "</td>\n",
       "<td align=\"center\" title=\"Validity of parameters\">\n",
       "Valid Param.\n",
       "</td>\n",
       "<td align=\"center\" title=\"Is EDM above goal EDM?\">\n",
       "Above EDM\n",
       "</td>\n",
       "<td align=\"center\" colspan=\"2\" title=\"Did last migrad call reach max call limit?\">\n",
       "Reached call limit\n",
       "</td>\n",
       "</tr>\n",
       "<tr>\n",
       "<td align=\"center\" style=\"background-color:#92CCA6;\">\n",
       "True\n",
       "</td>\n",
       "<td align=\"center\" style=\"background-color:#92CCA6;\">\n",
       "True\n",
       "</td>\n",
       "<td align=\"center\" style=\"background-color:#92CCA6;\">\n",
       "False\n",
       "</td>\n",
       "<td align=\"center\" colspan=\"2\" style=\"background-color:#92CCA6;\">\n",
       "False\n",
       "</td>\n",
       "</tr>\n",
       "<tr>\n",
       "<td align=\"center\" title=\"Did Hesse fail?\">\n",
       "Hesse failed\n",
       "</td>\n",
       "<td align=\"center\" title=\"Has covariance matrix\">\n",
       "Has cov.\n",
       "</td>\n",
       "<td align=\"center\" title=\"Is covariance matrix accurate?\">\n",
       "Accurate\n",
       "</td>\n",
       "<td align=\"center\" title=\"Is covariance matrix positive definite?\">\n",
       "Pos. def.\n",
       "</td>\n",
       "<td align=\"center\" title=\"Was positive definiteness enforced by Minuit?\">\n",
       "Forced\n",
       "</td>\n",
       "</tr>\n",
       "<tr>\n",
       "<td align=\"center\" style=\"background-color:#92CCA6;\">\n",
       "False\n",
       "</td>\n",
       "<td align=\"center\" style=\"background-color:#92CCA6;\">\n",
       "True\n",
       "</td>\n",
       "<td align=\"center\" style=\"background-color:#92CCA6;\">\n",
       "True\n",
       "</td>\n",
       "<td align=\"center\" style=\"background-color:#92CCA6;\">\n",
       "True\n",
       "</td>\n",
       "<td align=\"center\" style=\"background-color:#92CCA6;\">\n",
       "False\n",
       "</td>\n",
       "</tr>\n",
       "</table>\n",
       "<table>\n",
       "<tr style=\"background-color:#F4F4F4;\">\n",
       "<td/>\n",
       "<th title=\"Variable name\">\n",
       "Name\n",
       "</th>\n",
       "<th title=\"Value of parameter\">\n",
       "Value\n",
       "</th>\n",
       "<th title=\"Hesse error\">\n",
       "Hesse Error\n",
       "</th>\n",
       "<th title=\"Minos lower error\">\n",
       "Minos Error-\n",
       "</th>\n",
       "<th title=\"Minos upper error\">\n",
       "Minos Error+\n",
       "</th>\n",
       "<th title=\"Lower limit of the parameter\">\n",
       "Limit-\n",
       "</th>\n",
       "<th title=\"Upper limit of the parameter\">\n",
       "Limit+\n",
       "</th>\n",
       "<th title=\"Is the parameter fixed in the fit\">\n",
       "Fixed\n",
       "</th>\n",
       "</tr>\n",
       "<tr style=\"background-color:#FFFFFF;\">\n",
       "<td>\n",
       "0\n",
       "</td>\n",
       "<td>\n",
       "Ao\n",
       "</td>\n",
       "<td>\n",
       "14.5\n",
       "</td>\n",
       "<td>\n",
       "0.5\n",
       "</td>\n",
       "<td>\n",
       "\n",
       "</td>\n",
       "<td>\n",
       "\n",
       "</td>\n",
       "<td>\n",
       "1\n",
       "</td>\n",
       "<td>\n",
       "50\n",
       "</td>\n",
       "<td>\n",
       "\n",
       "</td>\n",
       "</tr>\n",
       "<tr style=\"background-color:#F4F4F4;\">\n",
       "<td>\n",
       "1\n",
       "</td>\n",
       "<td>\n",
       "lambda_\n",
       "</td>\n",
       "<td>\n",
       "1.255E-4\n",
       "</td>\n",
       "<td>\n",
       "0.001E-4\n",
       "</td>\n",
       "<td>\n",
       "\n",
       "</td>\n",
       "<td>\n",
       "\n",
       "</td>\n",
       "<td>\n",
       "0.000125\n",
       "</td>\n",
       "<td>\n",
       "0.000125\n",
       "</td>\n",
       "<td>\n",
       "\n",
       "</td>\n",
       "</tr>\n",
       "</table>\n"
      ],
      "text/plain": [
       "------------------------------------------------------------------\n",
       "| FCN = 172.2                   |      Ncalls=56 (56 total)      |\n",
       "| EDM = 1.58E-05 (Goal: 1E-05)  |            up = 1.0            |\n",
       "------------------------------------------------------------------\n",
       "|  Valid Min.   | Valid Param.  | Above EDM | Reached call limit |\n",
       "------------------------------------------------------------------\n",
       "|     True      |     True      |   False   |       False        |\n",
       "------------------------------------------------------------------\n",
       "| Hesse failed  |   Has cov.    | Accurate  | Pos. def. | Forced |\n",
       "------------------------------------------------------------------\n",
       "|     False     |     True      |   True    |   True    | False  |\n",
       "------------------------------------------------------------------\n",
       "---------------------------------------------------------------------------------------------\n",
       "|   | Name    |   Value   | Hesse Err | Minos Err- | Minos Err+ | Limit-  | Limit+  | Fixed |\n",
       "---------------------------------------------------------------------------------------------\n",
       "| 0 | Ao      |   14.5    |    0.5    |            |            |    1    |   50    |       |\n",
       "| 1 | lambda_ | 1.255E-4  | 0.001E-4  |            |            |0.000125227|0.000125477|       |\n",
       "---------------------------------------------------------------------------------------------"
      ]
     },
     "execution_count": 143,
     "metadata": {},
     "output_type": "execute_result"
    }
   ],
   "source": [
    "mm.migrad()"
   ]
  },
  {
   "cell_type": "code",
   "execution_count": 144,
   "metadata": {},
   "outputs": [
    {
     "name": "stdout",
     "output_type": "stream",
     "text": [
      "---------------------------------------------------------------------------------------------\n",
      "|   | Name    |   Value   | Hesse Err | Minos Err- | Minos Err+ | Limit-  | Limit+  | Fixed |\n",
      "---------------------------------------------------------------------------------------------\n",
      "| 0 | Ao      |   14.5    |    0.5    |            |            |    1    |   50    |       |\n",
      "| 1 | lambda_ | 1.255E-4  | 0.001E-4  |            |            |0.000125227|0.000125477|       |\n",
      "---------------------------------------------------------------------------------------------\n",
      "\n",
      "Ao = 14.5 +- 0.5 decayed particles/bin0\n",
      "lambda = 1.25e-04 +- 1.26e-07 1/bin\n",
      "Reduced chi2: 0.84\n"
     ]
    }
   ],
   "source": [
    "print(mm.get_param_states())\n",
    "\n",
    "A0_fit=mm.values[0]             ## [events in bin zero]\n",
    "delta_A0_fit=mm.errors[0]       ## [events in bin zero]\n",
    "lambda_fit=mm.values[1]         ## [1/bin]\n",
    "delta_lambda_fit=mm.errors[1]   ## [1/bin]\n",
    "\n",
    "print('')\n",
    "print('Ao = {:3.1f}'.format(A0_fit) + ' +- {:3.1f}'.format(delta_A0_fit)+ ' decayed particles/bin0')\n",
    "print('lambda = {:1.2e}'.format(lambda_fit) + ' +- {:1.2e}'.format(delta_lambda_fit)+ ' 1/bin')\n",
    "\n",
    "## We take into account the number of empty bins for computing the chi2\n",
    "numEmptyBins=np.size(histPol214_y[histPol214_y==0])\n",
    "chi2=mm.fval / (len(histPol214_y)-numEmptyBins - 2)\n",
    "print('Reduced chi2: {:1.2}'.format(chi2))"
   ]
  },
  {
   "cell_type": "code",
   "execution_count": 148,
   "metadata": {
    "scrolled": false
   },
   "outputs": [
    {
     "name": "stderr",
     "output_type": "stream",
     "text": [
      "/Users/palacio/.conda/envs/envPython3/lib/python3.7/site-packages/ipykernel_launcher.py:16: MatplotlibDeprecationWarning: \n",
      "The 'normed' kwarg was deprecated in Matplotlib 2.1 and will be removed in 3.1. Use 'density' instead.\n",
      "  app.launch_new_instance()\n"
     ]
    },
    {
     "data": {
      "image/png": "[encoded data removed]",
      "text/plain": [
       "<Figure size 1080x504 with 1 Axes>"
      ]
     },
     "metadata": {
      "needs_background": "light"
     },
     "output_type": "display_data"
    }
   ],
   "source": [
    "fig = plt.figure(figsize=(15,7))\n",
    "\n",
    "xx = []\n",
    "yy = []\n",
    "yy_l = []\n",
    "yy_u = []\n",
    "\n",
    "\n",
    "for i in range(0,int(max(runtime_po214_Unblind)),100):\n",
    "    xx.append(i)\n",
    "    yy.append(pol214_expo(i,A0_fit,lambda_fit))\n",
    "    yy_l.append(pol214_expo(i,A0_fit + delta_A0_fit, lambda_fit + delta_lambda_fit ))\n",
    "    yy_u.append(pol214_expo(i,A0_fit - delta_A0_fit, lambda_fit - delta_lambda_fit))\n",
    "\n",
    "    \n",
    "plt.hist(runtime_po214_Unblind, int(binsUnblind), normed=0, facecolor='steelblue',edgecolor = 'black',histtype='stepfilled',alpha = 1,linewidth = 1.2, label='monA');\n",
    "#plt.scatter(histPol214_x, histPol214_y)\n",
    "#plt.scatter(histPol214_x, histPol214_y_norm)\n",
    "\n",
    "plt.plot(xx,yy,linewidth = 1.5, label='best fit')\n",
    "plt.plot(xx,yy_l,linestyle = '')\n",
    "plt.plot(xx,yy_u,linestyle = '')\n",
    "plt.fill_between(xx,yy_l,yy_u, color='darkblue', alpha='0.2')\n",
    "\n",
    "\n",
    "numBinPlot=70\n",
    "plt.text(histPol214_x[numBinPlot], np.max(histPol214_y)*0.95, r'A$_0$ = {:3.1e}'.format(A0_fit/binWidth) + ' +- {:3.1e}'.format(delta_A0_fit/binWidth) + ' counts in min$_0$',fontsize=18)\n",
    "plt.text(histPol214_x[numBinPlot], np.max(histPol214_y)*0.85, r'$\\lambda$ = {:3.2e}'.format(lambda_fit) + ' +- {:3.2e}'.format(delta_lambda_fit) + ' [1/min]' ,fontsize=18)\n",
    "plt.text(histPol214_x[numBinPlot], np.max(histPol214_y)*0.75, r'Reduced chi2: {:1.2f}'.format(chi2),fontsize=18)\n",
    "plt.text(histPol214_x[numBinPlot], np.max(histPol214_y)*0.65, r'Bin size: {:1.0f}'.format(binWidth)+' min',fontsize=18)\n",
    "activity = rdEmanation.standard_strength(a_s,t_e,lRn)\n",
    "plt.text(histPol214_x[numBinPlot], np.max(histPol214_y)*0.55, r'A$_0^t$ = {:3.2f}'.format(activity*60) + ' counts in min$_0$ ($\\epsilon$ = {:3.2f}'.format((A0_fit/binWidth)/(activity*60))+')', color = 'red', fontsize=18)\n",
    "plt.text(histPol214_x[numBinPlot], np.max(histPol214_y)*0.45, r'$\\lambda^t$ = {:3.2e}'.format(lRn*60.) + ' [1/min]', color = 'red', fontsize=18)\n",
    "\n",
    "plt.xlabel('',fontsize=20)\n",
    "plt.title('Po-214 events ',fontsize=20)\n",
    "plt.xlabel('run time [min]')\n",
    "plt.ylabel('Po-222 decayed events [# events]',fontsize=20)\n",
    "\n",
    "#plt.xlim(250,350)\n",
    "#plt.ylim(1e-2,2000)\n",
    "plt.xticks(fontsize = 18)\n",
    "plt.yticks(fontsize = 18)\n",
    "plt.legend(loc='upper right',fontsize = '18')\n",
    "plt.tick_params(direction='in', length=10, width=1, colors='black')\n",
    "plt.xticks( rotation=25 )\n",
    "plt.grid()\n",
    "#plt.savefig(\"spectra_po210.svg\")\n",
    "\n",
    "\n",
    "plt.show()"
   ]
  },
  {
   "cell_type": "code",
   "execution_count": 151,
   "metadata": {},
   "outputs": [
    {
     "name": "stdout",
     "output_type": "stream",
     "text": [
      "\u001b[94m\n",
      "\n",
      "---------------------------------------------------\n",
      "\n",
      "\n",
      "\u001b[94mPrevious emanation measurement started on 2019/07/28 @ 11:24\n",
      "\u001b[94mCurrent calibration measurement started on 2019/08/17 @ 14:25\n",
      "\u001b[94mMinutes passed between emanation and calibration measurements: 28981 min\n",
      "\n",
      "\n",
      "\u001b[94mA(t) = Ao * e^(-t*lambda_)\n",
      "\u001b[94mWhere:\n",
      "\u001b[94mAo = 1.6e-01 counts/min0\n",
      "\u001b[94mlambda_ = 1.93e-04 [1/min]\n",
      "\n",
      "\u001b[94mActivity induced = 6e-04 number of decayed Rn-222 events at min0 (t1+tBlind)\n",
      "\n",
      "\n",
      "---------------------------------------------------\n",
      "\n",
      "\n",
      "\u001b[94mCurrent activity measured:\n",
      "\u001b[94mAo = 1.4e-01 +- 4.5e-03 number of decayed Rn-222 events at min0 (t1+tBlind)\n",
      "\u001b[94mlambda_ = 1.25e-06 +- 1.26e-09 [1/min]\n",
      "\n",
      "\n",
      "\u001b[94mNumber of measured decayed Rn-222 events (from the fit):  1112 events\n",
      "\n",
      "\n",
      "---------------------------------------------------\n",
      "\n",
      "\n",
      "\u001b[94mExcess activity measured due to standard source:\n",
      "\u001b[94mA_hat = 1.4e-01 decay events/min0\n",
      "\u001b[94mA_hat_theory = 2.3e-02 decay events/min0\n",
      "\n",
      "\u001b[30m\u001b[1mDETECTION EFFICIENCY: ( 0.105 +/- 0.037) \n",
      "\n"
     ]
    }
   ],
   "source": [
    "#rdEmanationActivity.act(np.size(runtime_po214_Unblind),0,(runtime_po214_Unblind[-1]-tBlind)*60.,1,lRn)\n",
    "print ('\\033[94m')\n",
    "print ('')\n",
    "print ('---------------------------------------------------')\n",
    "print ('')\n",
    "print ('')\n",
    "print ('\\033[94m' + 'Previous emanation measurement started on 2019/07/28 @ 11:24')\n",
    "print ('\\033[94m' + 'Current calibration measurement started on 2019/08/17 @ 14:25')\n",
    "\n",
    "d2=20\n",
    "h2=3\n",
    "m2=1\n",
    "s2=0\n",
    "\n",
    "# time interval between the two measurements [min]\n",
    "minutes_emanation=(d2*24*60 + h2*60 + m2 +s2/60.)\n",
    "# measured emanation activity/min at t0 from previous measurement [#/min]\n",
    "activity_zero_emanation = 1.6e-01\n",
    "# measured decay-constant from previous measurement [1/min]\n",
    "decay_emanation = 1.93e-04\n",
    "# measured activity induced from previous measurement [1/min]\n",
    "activity_emanation=pol214_expo(minutes_emanation,activity_zero_emanation,decay_emanation)\n",
    "print ('\\033[94m' + 'Minutes passed between emanation and calibration measurements: {:3.0f}'.format(minutes_emanation) + ' min')\n",
    "print ('')\n",
    "print ('')\n",
    "print ('\\033[94m' + 'A(t) = Ao * e^(-t*lambda_)')\n",
    "print ('\\033[94m' + 'Where:')\n",
    "print ('\\033[94m' + 'Ao = {:3.1e}'.format(activity_zero_emanation) + ' counts/min0')\n",
    "print ('\\033[94m' + 'lambda_ = {:3.2e}'.format(decay_emanation) + ' [1/min]')\n",
    "print ('')\n",
    "print ('\\033[94m' + 'Activity induced = {:3.0e}'.format(activity_emanation)+' number of decayed Rn-222 events at min0 (t1+tBlind)')\n",
    "\n",
    "\n",
    "print ('')\n",
    "print ('')\n",
    "print ('---------------------------------------------------')\n",
    "print ('')\n",
    "print ('')\n",
    "\n",
    "\n",
    "print ('\\033[94m' + 'Current activity measured:')\n",
    "print ('\\033[94m' + 'Ao = {:3.1e}'.format(A0_fit/binWidth) + ' +- {:3.1e}'.format(delta_A0_fit/binWidth) + ' number of decayed Rn-222 events at min0 (t1+tBlind)')\n",
    "print ('\\033[94m' + 'lambda_ = {:3.2e}'.format(lambda_fit/binWidth) + ' +- {:3.2e}'.format(delta_lambda_fit/binWidth) + ' [1/min]')\n",
    "\n",
    "\n",
    "print ('')\n",
    "print ('')\n",
    "\n",
    "\n",
    "num_decayed_Rn222=0\n",
    "for t in range(int(300), int(t2)):\n",
    "    num_decayed_Rn222=num_decayed_Rn222+pol214_expo(t,A0_fit,lambda_fit)/binWidth\n",
    "print ('\\033[94m' + 'Number of measured decayed Rn-222 events (from the fit):  {:3.0f}'.format(num_decayed_Rn222) +' events')\n",
    "\n",
    "\n",
    "\n",
    "print ('')\n",
    "print ('')\n",
    "print ('---------------------------------------------------')\n",
    "print ('')\n",
    "print ('')\n",
    "\n",
    "\n",
    "measured_SS_activity_min0=A0_fit/binWidth-activity_emanation\n",
    "delta_activity_emanation=0.\n",
    "delta_measured_SS_activity_min0=np.sqrt(\n",
    "    (delta_A0_fit/binWidth)**2 + delta_activity_emanation**2)\n",
    "\n",
    "efficiency2=measured_SS_activity_min0/(activity*60.)\n",
    "delta_efficiency2 = np.sqrt(\n",
    "    1./(activity*60)**2 * delta_measured_SS_activity_min0**2\n",
    "    + (measured_SS_activity_min0/(activity*60.)**2)**2 * (err_activity*60.)**2 )\n",
    "\n",
    "\n",
    "print ('\\033[94m' + 'Excess activity measured due to standard source:')\n",
    "print ('\\033[94m' + 'A_hat = {:3.1e}'.format(measured_SS_activity_min0) + ' decay events/min0')\n",
    "print ('\\033[94m' + 'A_hat_theory = {:3.1e}'.format(activity) + ' decay events/min0')\n",
    "print ('')\n",
    "print ('\\033[30m' + '\\033[1m' + 'DETECTION EFFICIENCY: ({:6.3f}'.format(efficiency2) + ' +/- {:2.3f}'.format(delta_efficiency2) + ') ')\n",
    "print ('')\n"
   ]
  },
  {
   "cell_type": "markdown",
   "metadata": {},
   "source": [
    "# Po-214 / Po-218 ratio"
   ]
  },
  {
   "cell_type": "markdown",
   "metadata": {},
   "source": [
    "The ratio of Po-218 and Po-214 events turned out to be an indicator for a change in the collection efficiency of the radon daughters.\n"
   ]
  },
  {
   "cell_type": "code",
   "execution_count": 152,
   "metadata": {},
   "outputs": [
    {
     "name": "stdout",
     "output_type": "stream",
     "text": [
      "\u001b[1mPo-214 / Po-218 ratio: ( 2.275 +/- 0.119) \n"
     ]
    }
   ],
   "source": [
    "Po_ratio_214_218 = rdEmanationActivity.element_ratio(len(channel_po214_Unblind),len(channel_po218_Unblind))\n",
    "ePo_ratio_214_218 = rdEmanationActivity.error_element_ratio(len(channel_po214_Unblind),len(channel_po218_Unblind))\n",
    "\n",
    "print ('\\033[1m' + 'Po-214 / Po-218 ratio: ({:6.3f}'.format(Po_ratio_214_218) + ' +/- {:2.3f}'.format(ePo_ratio_214_218) + ') ')"
   ]
  },
  {
   "cell_type": "markdown",
   "metadata": {},
   "source": [
    "# Po-210 activity"
   ]
  },
  {
   "cell_type": "markdown",
   "metadata": {},
   "source": [
    "The Po-210 rate, on the other hand is expected to be constant due to the long half-life of Pb-210 (>20 years). Any non constant behaviour might indicate noise contamination."
   ]
  },
  {
   "cell_type": "code",
   "execution_count": 156,
   "metadata": {},
   "outputs": [
    {
     "name": "stderr",
     "output_type": "stream",
     "text": [
      "/Users/palacio/.conda/envs/envPython3/lib/python3.7/site-packages/ipykernel_launcher.py:3: MatplotlibDeprecationWarning: \n",
      "The 'normed' kwarg was deprecated in Matplotlib 2.1 and will be removed in 3.1. Use 'density' instead.\n",
      "  This is separate from the ipykernel package so we can avoid doing imports until\n",
      "/Users/palacio/.conda/envs/envPython3/lib/python3.7/site-packages/ipykernel_launcher.py:4: MatplotlibDeprecationWarning: \n",
      "The 'normed' kwarg was deprecated in Matplotlib 2.1 and will be removed in 3.1. Use 'density' instead.\n",
      "  after removing the cwd from sys.path.\n"
     ]
    },
    {
     "data": {
      "image/png": "[encoded data removed]",
      "text/plain": [
       "<Figure size 720x360 with 1 Axes>"
      ]
     },
     "metadata": {
      "needs_background": "light"
     },
     "output_type": "display_data"
    }
   ],
   "source": [
    "fig = plt.figure(figsize=(10,5))\n",
    "\n",
    "plt.hist(runtime_po210_Unblind, int(binsUnblind), normed=0, facecolor='steelblue',edgecolor = 'black',histtype='stepfilled',alpha = 1,linewidth = 1.2, label='for runtime > {:3.0f}'.format(tBlind) + ' min');\n",
    "plt.hist(runtime_po210_Blind, int(binsBlind), normed=0, facecolor='orange',edgecolor = 'black',histtype='stepfilled',alpha = 1,linewidth = 1.2, label='for runtime < {:3.0f}'.format(tBlind) + ' min');\n",
    "\n",
    "#plt.yscale('log', nonposy='clip')\n",
    "plt.xlabel('runtime [min]',fontsize=20)\n",
    "plt.ylabel('number of counts',fontsize=20)\n",
    "#plt.xlim(0.1, 800)\n",
    "#plt.ylim(0.1,800)\n",
    "plt.xticks(fontsize = 18)\n",
    "plt.yticks(fontsize = 18)\n",
    "plt.tick_params(direction='in', length=10, width=1, colors='black')\n",
    "plt.title('Time evolution of Po-210 events' + ' min.',loc='left',fontsize = 15, weight = 'bold')\n",
    "#plt.savefig(\"hexe_ptfe_blank.svg\")\n",
    "plt.legend()\n",
    "\n",
    "plt.show()"
   ]
  },
  {
   "cell_type": "code",
   "execution_count": 25,
   "metadata": {},
   "outputs": [
    {
     "name": "stdout",
     "output_type": "stream",
     "text": [
      "\u001b[1mactivity Po-210: ( 2.729 +/- 0.0448 mBq) \n"
     ]
    }
   ],
   "source": [
    "activityPo210=rdEmanationActivity.act(len(channel_po210_Blind)+len(channel_po210_Unblind),0,max(runtime_Unblind)*60,1,lPo210)\n",
    "eactivityPo210=rdEmanationActivity.err_act(len(channel_po210_Blind)+len(channel_po210_Unblind),0,max(runtime_Unblind)*60,1,0,lPo210)\n",
    "\n",
    "print ('\\033[1m' + 'activity Po-210: ({:6.3f}'.format(activityPo210*1000) + ' +/- {:2.3}'.format(eactivityPo210*1000) + ' mBq) ')"
   ]
  },
  {
   "cell_type": "markdown",
   "metadata": {},
   "source": [
    "# Hide all the code and show the plots only"
   ]
  },
  {
   "cell_type": "code",
   "execution_count": 26,
   "metadata": {},
   "outputs": [
    {
     "data": {
      "text/html": [
       "<script>\n",
       "code_show=false; \n",
       "function code_toggle() {\n",
       " if (code_show){\n",
       " $('div.input').hide();\n",
       " } else {\n",
       " $('div.input').show();\n",
       " }\n",
       " code_show = !code_show\n",
       "} \n",
       "$( document ).ready(code_toggle);\n",
       "</script>\n",
       "The raw code for this IPython notebook is by default hidden for easier reading.\n",
       "To toggle on/off the raw code, click <a href=\"javascript:code_toggle()\">here</a>."
      ],
      "text/plain": [
       "<IPython.core.display.HTML object>"
      ]
     },
     "execution_count": 26,
     "metadata": {},
     "output_type": "execute_result"
    }
   ],
   "source": [
    "HTML('''<script>\n",
    "code_show=false; \n",
    "function code_toggle() {\n",
    " if (code_show){\n",
    " $('div.input').hide();\n",
    " } else {\n",
    " $('div.input').show();\n",
    " }\n",
    " code_show = !code_show\n",
    "} \n",
    "$( document ).ready(code_toggle);\n",
    "</script>\n",
    "The raw code for this IPython notebook is by default hidden for easier reading.\n",
    "To toggle on/off the raw code, click <a href=\"javascript:code_toggle()\">here</a>.''')"
   ]
  }
 ],
 "metadata": {
  "kernelspec": {
   "display_name": "Python 3",
   "language": "python",
   "name": "python3"
  },
  "language_info": {
   "codemirror_mode": {
    "name": "ipython",
    "version": 3
   },
   "file_extension": ".py",
   "mimetype": "text/x-python",
   "name": "python",
   "nbconvert_exporter": "python",
   "pygments_lexer": "ipython3",
   "version": "3.7.5"
  }
 },
 "nbformat": 4,
 "nbformat_minor": 2
}
